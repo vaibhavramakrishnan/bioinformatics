{
 "cells": [
  {
   "cell_type": "markdown",
   "metadata": {
    "colab_type": "text",
    "id": "l0Y7_lgN4jzM"
   },
   "source": [
    "# **Bioinformatics Project - Computational Drug Discovery - Exploratory Data Analysis**\n",
    "\n",
    "Vaibhav Ramakrishnan\n",
    "\n",
    "In this Jupyter notebook, we will be building a machine learning model using the ChEMBL bioactivity data.\n",
    "\n",
    "We will be performing Descriptor Calculation and Exploratory Data Analysis.\n",
    "\n",
    "---"
   ]
  },
  {
   "cell_type": "markdown",
   "metadata": {
    "colab_type": "text",
    "id": "o-4IOizard4P"
   },
   "source": [
    "## **Install conda and rdkit**"
   ]
  },
  {
   "cell_type": "code",
   "execution_count": 7,
   "metadata": {
    "colab": {
     "base_uri": "https://localhost:8080/",
     "height": 1000
    },
    "colab_type": "code",
    "id": "H0mjQ2PcrSe5",
    "outputId": "10fb9322-6afb-4873-8c41-0e6bfbe9d0b2",
    "scrolled": false
   },
   "outputs": [
    {
     "name": "stdout",
     "output_type": "stream",
     "text": [
      "--2023-10-11 00:27:45--  https://repo.anaconda.com/miniconda/Miniconda3-py38_4.8.2-MacOSX-x86_64.sh\n",
      "Resolving repo.anaconda.com (repo.anaconda.com)... 104.16.131.3, 104.16.130.3\n",
      "Connecting to repo.anaconda.com (repo.anaconda.com)|104.16.131.3|:443... connected.\n",
      "HTTP request sent, awaiting response... 200 OK\n",
      "Length: 53840623 (51M) [application/x-sh]\n",
      "Saving to: ‘Miniconda3-py38_4.8.2-MacOSX-x86_64.sh’\n",
      "\n",
      "Miniconda3-py38_4.8 100%[===================>]  51.35M  18.3MB/s    in 2.8s    \n",
      "\n",
      "2023-10-11 00:27:48 (18.3 MB/s) - ‘Miniconda3-py38_4.8.2-MacOSX-x86_64.sh’ saved [53840623/53840623]\n",
      "\n"
     ]
    }
   ],
   "source": [
    "! wget https://repo.anaconda.com/miniconda/Miniconda3-py38_4.8.2-MacOSX-x86_64.sh\n",
    "! chmod +x Miniconda3-py38_4.8.2-MacOSX-x86_64.sh"
   ]
  },
  {
   "cell_type": "code",
   "execution_count": 8,
   "metadata": {},
   "outputs": [
    {
     "name": "stdout",
     "output_type": "stream",
     "text": [
      "PREFIX=/Users/vaibhavramakrishnan/miniconda\n",
      "Unpacking payload ...\n",
      "Collecting package metadata (current_repodata.json): -                        done\n",
      "Solving environment: - \n",
      "The environment is inconsistent, please check the package plan carefully\n",
      "The following packages are causing the inconsistency:\n",
      "\n",
      "  - conda-forge/osx-64::matplotlib-base==3.7.3=py38hcd1b199_0\n",
      "  - conda-forge/osx-64::greenlet==3.0.0=py38hb2f96d7_1\n",
      "  - conda-forge/osx-64::sqlalchemy==2.0.21=py38hae2e43d_1\n",
      "  - conda-forge/osx-64::rdkit==2023.03.3=py38hb7485d2_1\n",
      "failed with initial frozen solve. Retrying with flexible solve.\n",
      "Solving environment: failed with repodata from current_repodata.json, will retry with next repodata source.\n",
      "Collecting package metadata (repodata.json): done\n",
      "Solving environment: | \n",
      "The environment is inconsistent, please check the package plan carefully\n",
      "The following packages are causing the inconsistency:\n",
      "\n",
      "  - conda-forge/osx-64::matplotlib-base==3.7.3=py38hcd1b199_0\n",
      "  - conda-forge/osx-64::greenlet==3.0.0=py38hb2f96d7_1\n",
      "  - conda-forge/osx-64::sqlalchemy==2.0.21=py38hae2e43d_1\n",
      "  - conda-forge/osx-64::rdkit==2023.03.3=py38hb7485d2_1\n",
      "failed with initial frozen solve. Retrying with flexible solve.\n",
      "Solving environment: - \n",
      "Found conflicts! Looking for incompatible packages.\n",
      "This can take several minutes.  Press CTRL-C to abort.\n",
      "                                                                               failed\n",
      "\n",
      "# >>>>>>>>>>>>>>>>>>>>>> ERROR REPORT <<<<<<<<<<<<<<<<<<<<<<\n",
      "\n",
      "    Traceback (most recent call last):\n",
      "      File \"site-packages/conda/cli/install.py\", line 265, in install\n",
      "      File \"site-packages/conda/core/solve.py\", line 117, in solve_for_transaction\n",
      "      File \"site-packages/conda/core/solve.py\", line 158, in solve_for_diff\n",
      "      File \"site-packages/conda/core/solve.py\", line 281, in solve_final_state\n",
      "      File \"site-packages/conda/common/io.py\", line 88, in decorated\n",
      "      File \"site-packages/conda/core/solve.py\", line 808, in _run_sat\n",
      "      File \"site-packages/conda/common/io.py\", line 88, in decorated\n",
      "      File \"site-packages/conda/resolve.py\", line 1316, in solve\n",
      "    conda.exceptions.UnsatisfiableError: \n",
      "    Did not find conflicting dependencies. If you would like to know which\n",
      "    packages conflict ensure that you have enabled unsatisfiable hints.\n",
      "    \n",
      "    conda config --set unsatisfiable_hints True\n",
      "                \n",
      "    \n",
      "    During handling of the above exception, another exception occurred:\n",
      "    \n",
      "    Traceback (most recent call last):\n",
      "      File \"site-packages/conda/exceptions.py\", line 1079, in __call__\n",
      "      File \"site-packages/conda/cli/main.py\", line 84, in _main\n",
      "      File \"site-packages/conda/cli/conda_argparse.py\", line 82, in do_call\n",
      "      File \"site-packages/conda/cli/main_install.py\", line 20, in execute\n",
      "      File \"site-packages/conda/cli/install.py\", line 299, in install\n",
      "      File \"site-packages/conda/core/solve.py\", line 117, in solve_for_transaction\n",
      "      File \"site-packages/conda/core/solve.py\", line 158, in solve_for_diff\n",
      "      File \"site-packages/conda/core/solve.py\", line 281, in solve_final_state\n",
      "      File \"site-packages/conda/common/io.py\", line 88, in decorated\n",
      "      File \"site-packages/conda/core/solve.py\", line 808, in _run_sat\n",
      "      File \"site-packages/conda/common/io.py\", line 88, in decorated\n",
      "      File \"site-packages/conda/resolve.py\", line 1318, in solve\n",
      "      File \"site-packages/conda/resolve.py\", line 347, in find_conflicts\n",
      "      File \"site-packages/conda/resolve.py\", line 507, in build_conflict_map\n",
      "      File \"site-packages/conda/resolve.py\", line 369, in breadth_first_search_for_dep_graph\n",
      "      File \"site-packages/conda/models/match_spec.py\", line 481, in union\n",
      "      File \"site-packages/conda/models/match_spec.py\", line 475, in merge\n",
      "      File \"site-packages/conda/models/match_spec.py\", line 475, in <lambda>\n",
      "      File \"site-packages/conda/models/match_spec.py\", line 502, in _merge\n",
      "      File \"site-packages/conda/models/match_spec.py\", line 764, in union\n",
      "    TypeError: sequence item 0: expected str instance, Channel found\n",
      "\n",
      "`$ /Users/vaibhavramakrishnan/miniconda/conda.exe install --offline --file /Users/vaibhavramakrishnan/miniconda/pkgs/env.txt -yp /Users/vaibhavramakrishnan/miniconda`\n",
      "\n",
      "  environment variables:\n",
      "                 CIO_TEST=<not set>\n",
      "           CONDA_CHANNELS=https://repo.anaconda.com/pkgs/main,https://repo.anaconda.com/pkgs/mai\n",
      "                          n,https://repo.anaconda.com/pkgs/r,https://repo.anaconda.com/pkgs/pro\n",
      "        CONDA_DEFAULT_ENV=base\n",
      "                CONDA_EXE=/Users/vaibhavramakrishnan/miniconda/bin/conda\n",
      "CONDA_EXTRA_SAFETY_CHECKS=no\n",
      "          CONDA_PKGS_DIRS=/Users/vaibhavramakrishnan/miniconda/pkgs\n",
      "             CONDA_PREFIX=/Users/vaibhavramakrishnan/miniconda\n",
      "    CONDA_PROMPT_MODIFIER=(base)\n",
      "         CONDA_PYTHON_EXE=/Users/vaibhavramakrishnan/miniconda/bin/python\n",
      "   CONDA_ROLLBACK_ENABLED=no\n",
      "               CONDA_ROOT=/var/folders/v0/fdzcqv555678rbr0psghgcnm0000gn/T/_MEIEXJuUU\n",
      "      CONDA_SAFETY_CHECKS=disabled\n",
      "              CONDA_SHLVL=1\n",
      "                 INFOPATH=/opt/homebrew/share/info:\n",
      "                  MANPATH=/opt/homebrew/share/man::\n",
      "                     PATH=/Users/vaibhavramakrishnan/miniconda/bin:/Users/vaibhavramakrishnan/mi\n",
      "                          niconda/condabin:/usr/local/spark/spark-3.3.2-bin-\n",
      "                          hadoop3/bin:/usr/local/opt/mongodb-community@4.4/bin:/Library/Framewor\n",
      "                          ks/Python.framework/Versions/3.8/bin:/opt/homebrew/bin:/opt/homebrew/s\n",
      "                          bin:/Library/Frameworks/Python.framework/Versions/3.11/bin:/usr/local/\n",
      "                          bin:/usr/bin:/bin:/usr/sbin:/sbin:/opt/X11/bin:/Users/vaibhavramakrish\n",
      "                          nan/Downloads/hadoop-1.2.1/sbin:/Users/vaibhavramakrishnan/Downloads/h\n",
      "                          adoop-1.2.1/bin\n",
      "               PYTHONPATH=/usr/local/spark/spark-3.3.2-bin-hadoop3/python/::/Library/Frameworks/\n",
      "                          Python.framework/Versions/3.8/lib/python3.8/site-packages\n",
      "       REQUESTS_CA_BUNDLE=<not set>\n",
      "            SSL_CERT_FILE=/var/folders/v0/fdzcqv555678rbr0psghgcnm0000gn/T/_MEIEXJuUU/certifi/ca\n",
      "                          cert.pem\n",
      "\n",
      "     active environment : /Users/vaibhavramakrishnan/miniconda\n",
      "    active env location : /Users/vaibhavramakrishnan/miniconda\n",
      "            shell level : 1\n",
      "       user config file : /Users/vaibhavramakrishnan/.condarc\n",
      " populated config files : /Users/vaibhavramakrishnan/.condarc\n",
      "          conda version : 4.8.2\n",
      "    conda-build version : not installed\n",
      "         python version : 3.7.6.final.0\n",
      "       virtual packages : __osx=10.16\n",
      "       base environment : /var/folders/v0/fdzcqv555678rbr0psghgcnm0000gn/T/_MEIEXJuUU  (read only)\n",
      "           channel URLs : https://repo.anaconda.com/pkgs/main/osx-64  (offline)\n",
      "                          https://repo.anaconda.com/pkgs/main/noarch  (offline)\n",
      "                          https://repo.anaconda.com/pkgs/r/osx-64  (offline)\n",
      "                          https://repo.anaconda.com/pkgs/r/noarch  (offline)\n",
      "                          https://repo.anaconda.com/pkgs/pro/osx-64  (offline)\n",
      "                          https://repo.anaconda.com/pkgs/pro/noarch  (offline)\n",
      "                          https://conda.anaconda.org/conda-forge/osx-64  (offline)\n",
      "                          https://conda.anaconda.org/conda-forge/noarch  (offline)\n",
      "                          https://conda.anaconda.org/apple/label/tensorflow/osx-64  (offline)\n",
      "                          https://conda.anaconda.org/apple/label/tensorflow/noarch  (offline)\n",
      "          package cache : /Users/vaibhavramakrishnan/miniconda/pkgs\n",
      "       envs directories : /Users/vaibhavramakrishnan/.conda/envs\n",
      "                          /var/folders/v0/fdzcqv555678rbr0psghgcnm0000gn/T/_MEIEXJuUU/envs\n",
      "               platform : osx-64\n",
      "             user-agent : conda/4.8.2 requests/2.22.0 CPython/3.7.6 Darwin/21.6.0 OSX/10.16\n",
      "                UID:GID : 501:20\n",
      "             netrc file : None\n",
      "           offline mode : True\n",
      "\n",
      "\n",
      "An unexpected error has occurred. Conda has prepared the above report.\n",
      "\n",
      "Upload successful.\n"
     ]
    }
   ],
   "source": [
    "! bash ./Miniconda3-py38_4.8.2-MacOSX-x86_64.sh -b -f -p ~/miniconda"
   ]
  },
  {
   "cell_type": "code",
   "execution_count": 9,
   "metadata": {},
   "outputs": [
    {
     "name": "stdout",
     "output_type": "stream",
     "text": [
      "Collecting package metadata (current_repodata.json): done\n",
      "Solving environment: done\n",
      "\n",
      "# All requested packages already installed.\n",
      "\n"
     ]
    }
   ],
   "source": [
    "! conda install -c rdkit rdkit -y"
   ]
  },
  {
   "cell_type": "code",
   "execution_count": 10,
   "metadata": {},
   "outputs": [],
   "source": [
    "import sys\n",
    "sys.path.append('/Library/Frameworks/Python.framework/Versions/3.8/lib/python3.8/site-packages')"
   ]
  },
  {
   "cell_type": "markdown",
   "metadata": {},
   "source": [
    "## **Load bioactivity data**"
   ]
  },
  {
   "cell_type": "code",
   "execution_count": 3,
   "metadata": {
    "colab": {},
    "colab_type": "code",
    "id": "Fpu5C7HlwV9s"
   },
   "outputs": [],
   "source": [
    "import pandas as pd"
   ]
  },
  {
   "cell_type": "code",
   "execution_count": 4,
   "metadata": {
    "colab": {
     "base_uri": "https://localhost:8080/",
     "height": 419
    },
    "colab_type": "code",
    "id": "GCcE8J5XwjtB",
    "outputId": "40a10f00-3d5f-4835-fdf8-2cb5acd8683c"
   },
   "outputs": [
    {
     "data": {
      "text/html": [
       "<div>\n",
       "<style scoped>\n",
       "    .dataframe tbody tr th:only-of-type {\n",
       "        vertical-align: middle;\n",
       "    }\n",
       "\n",
       "    .dataframe tbody tr th {\n",
       "        vertical-align: top;\n",
       "    }\n",
       "\n",
       "    .dataframe thead th {\n",
       "        text-align: right;\n",
       "    }\n",
       "</style>\n",
       "<table border=\"1\" class=\"dataframe\">\n",
       "  <thead>\n",
       "    <tr style=\"text-align: right;\">\n",
       "      <th></th>\n",
       "      <th>molecule_chembl_id</th>\n",
       "      <th>canonical_smiles</th>\n",
       "      <th>standard_value</th>\n",
       "      <th>class</th>\n",
       "    </tr>\n",
       "  </thead>\n",
       "  <tbody>\n",
       "    <tr>\n",
       "      <th>0</th>\n",
       "      <td>CHEMBL341591</td>\n",
       "      <td>CC12CCC(O)CC1=CCC1C2CCC2(C)C(CC3CN3)CCC12</td>\n",
       "      <td>7100.00</td>\n",
       "      <td>intermediate</td>\n",
       "    </tr>\n",
       "    <tr>\n",
       "      <th>1</th>\n",
       "      <td>CHEMBL2111947</td>\n",
       "      <td>C[C@]12CC[C@H]3[C@@H](CC=C4C[C@@H](O)CC[C@@]43...</td>\n",
       "      <td>50000.00</td>\n",
       "      <td>inactive</td>\n",
       "    </tr>\n",
       "    <tr>\n",
       "      <th>2</th>\n",
       "      <td>CHEMBL431859</td>\n",
       "      <td>CCn1c(C(c2ccc(F)cc2)n2ccnc2)c(C)c2cc(Br)ccc21</td>\n",
       "      <td>238.00</td>\n",
       "      <td>active</td>\n",
       "    </tr>\n",
       "    <tr>\n",
       "      <th>3</th>\n",
       "      <td>CHEMBL113637</td>\n",
       "      <td>CCn1cc(C(c2ccc(F)cc2)n2ccnc2)c2ccccc21</td>\n",
       "      <td>57.00</td>\n",
       "      <td>active</td>\n",
       "    </tr>\n",
       "    <tr>\n",
       "      <th>4</th>\n",
       "      <td>CHEMBL112021</td>\n",
       "      <td>Clc1ccccc1Cn1cc(Cn2ccnc2)c2ccccc21</td>\n",
       "      <td>54.00</td>\n",
       "      <td>active</td>\n",
       "    </tr>\n",
       "    <tr>\n",
       "      <th>...</th>\n",
       "      <td>...</td>\n",
       "      <td>...</td>\n",
       "      <td>...</td>\n",
       "      <td>...</td>\n",
       "    </tr>\n",
       "    <tr>\n",
       "      <th>2111</th>\n",
       "      <td>CHEMBL5203413</td>\n",
       "      <td>CC#CCOc1ccc2cc(C(c3ccc(C#N)cc3)n3cncn3)oc2c1</td>\n",
       "      <td>0.09</td>\n",
       "      <td>active</td>\n",
       "    </tr>\n",
       "    <tr>\n",
       "      <th>2112</th>\n",
       "      <td>CHEMBL5179009</td>\n",
       "      <td>CCC#CCOc1ccc2cc(C(c3ccc(C#N)cc3)n3cncn3)oc2c1</td>\n",
       "      <td>0.72</td>\n",
       "      <td>active</td>\n",
       "    </tr>\n",
       "    <tr>\n",
       "      <th>2113</th>\n",
       "      <td>CHEMBL5184829</td>\n",
       "      <td>O=C(Nc1ccc2[nH]ncc2c1)[C@]12ON=C(c3cccnc3)[C@H...</td>\n",
       "      <td>10000.00</td>\n",
       "      <td>inactive</td>\n",
       "    </tr>\n",
       "    <tr>\n",
       "      <th>2114</th>\n",
       "      <td>CHEMBL5176279</td>\n",
       "      <td>CCOC(=O)Cc1csc(N/N=C/c2ccc3cc(OC)ccc3c2)n1</td>\n",
       "      <td>31.00</td>\n",
       "      <td>active</td>\n",
       "    </tr>\n",
       "    <tr>\n",
       "      <th>2115</th>\n",
       "      <td>CHEMBL5177928</td>\n",
       "      <td>COc1ccc2cc(/C=N/NC3=NC(=O)CS3)ccc2c1</td>\n",
       "      <td>42.00</td>\n",
       "      <td>active</td>\n",
       "    </tr>\n",
       "  </tbody>\n",
       "</table>\n",
       "<p>2116 rows × 4 columns</p>\n",
       "</div>"
      ],
      "text/plain": [
       "     molecule_chembl_id                                   canonical_smiles   \n",
       "0          CHEMBL341591          CC12CCC(O)CC1=CCC1C2CCC2(C)C(CC3CN3)CCC12  \\\n",
       "1         CHEMBL2111947  C[C@]12CC[C@H]3[C@@H](CC=C4C[C@@H](O)CC[C@@]43...   \n",
       "2          CHEMBL431859      CCn1c(C(c2ccc(F)cc2)n2ccnc2)c(C)c2cc(Br)ccc21   \n",
       "3          CHEMBL113637             CCn1cc(C(c2ccc(F)cc2)n2ccnc2)c2ccccc21   \n",
       "4          CHEMBL112021                 Clc1ccccc1Cn1cc(Cn2ccnc2)c2ccccc21   \n",
       "...                 ...                                                ...   \n",
       "2111      CHEMBL5203413       CC#CCOc1ccc2cc(C(c3ccc(C#N)cc3)n3cncn3)oc2c1   \n",
       "2112      CHEMBL5179009      CCC#CCOc1ccc2cc(C(c3ccc(C#N)cc3)n3cncn3)oc2c1   \n",
       "2113      CHEMBL5184829  O=C(Nc1ccc2[nH]ncc2c1)[C@]12ON=C(c3cccnc3)[C@H...   \n",
       "2114      CHEMBL5176279         CCOC(=O)Cc1csc(N/N=C/c2ccc3cc(OC)ccc3c2)n1   \n",
       "2115      CHEMBL5177928               COc1ccc2cc(/C=N/NC3=NC(=O)CS3)ccc2c1   \n",
       "\n",
       "      standard_value         class  \n",
       "0            7100.00  intermediate  \n",
       "1           50000.00      inactive  \n",
       "2             238.00        active  \n",
       "3              57.00        active  \n",
       "4              54.00        active  \n",
       "...              ...           ...  \n",
       "2111            0.09        active  \n",
       "2112            0.72        active  \n",
       "2113        10000.00      inactive  \n",
       "2114           31.00        active  \n",
       "2115           42.00        active  \n",
       "\n",
       "[2116 rows x 4 columns]"
      ]
     },
     "execution_count": 4,
     "metadata": {},
     "output_type": "execute_result"
    }
   ],
   "source": [
    "df = pd.read_csv('aromatase_03_bioactivity_data_curated.csv')\n",
    "df"
   ]
  },
  {
   "cell_type": "code",
   "execution_count": 5,
   "metadata": {
    "colab": {},
    "colab_type": "code",
    "id": "7AMm19NW0bJR"
   },
   "outputs": [],
   "source": [
    "df_no_smiles = df.drop(columns='canonical_smiles')"
   ]
  },
  {
   "cell_type": "code",
   "execution_count": 6,
   "metadata": {
    "colab": {},
    "colab_type": "code",
    "id": "aymiQsfdr5sY"
   },
   "outputs": [],
   "source": [
    "smiles = []\n",
    "\n",
    "for i in df.canonical_smiles.tolist():\n",
    "  cpd = str(i).split('.')\n",
    "  cpd_longest = max(cpd, key = len)\n",
    "  smiles.append(cpd_longest)\n",
    "\n",
    "smiles = pd.Series(smiles, name = 'canonical_smiles')"
   ]
  },
  {
   "cell_type": "code",
   "execution_count": 7,
   "metadata": {
    "colab": {
     "base_uri": "https://localhost:8080/",
     "height": 419
    },
    "colab_type": "code",
    "id": "l7a8qW_U85ZK",
    "outputId": "9e073a51-20d4-489c-b1f7-6a44d140c22b"
   },
   "outputs": [
    {
     "data": {
      "text/html": [
       "<div>\n",
       "<style scoped>\n",
       "    .dataframe tbody tr th:only-of-type {\n",
       "        vertical-align: middle;\n",
       "    }\n",
       "\n",
       "    .dataframe tbody tr th {\n",
       "        vertical-align: top;\n",
       "    }\n",
       "\n",
       "    .dataframe thead th {\n",
       "        text-align: right;\n",
       "    }\n",
       "</style>\n",
       "<table border=\"1\" class=\"dataframe\">\n",
       "  <thead>\n",
       "    <tr style=\"text-align: right;\">\n",
       "      <th></th>\n",
       "      <th>molecule_chembl_id</th>\n",
       "      <th>standard_value</th>\n",
       "      <th>class</th>\n",
       "      <th>canonical_smiles</th>\n",
       "    </tr>\n",
       "  </thead>\n",
       "  <tbody>\n",
       "    <tr>\n",
       "      <th>0</th>\n",
       "      <td>CHEMBL341591</td>\n",
       "      <td>7100.00</td>\n",
       "      <td>intermediate</td>\n",
       "      <td>CC12CCC(O)CC1=CCC1C2CCC2(C)C(CC3CN3)CCC12</td>\n",
       "    </tr>\n",
       "    <tr>\n",
       "      <th>1</th>\n",
       "      <td>CHEMBL2111947</td>\n",
       "      <td>50000.00</td>\n",
       "      <td>inactive</td>\n",
       "      <td>C[C@]12CC[C@H]3[C@@H](CC=C4C[C@@H](O)CC[C@@]43...</td>\n",
       "    </tr>\n",
       "    <tr>\n",
       "      <th>2</th>\n",
       "      <td>CHEMBL431859</td>\n",
       "      <td>238.00</td>\n",
       "      <td>active</td>\n",
       "      <td>CCn1c(C(c2ccc(F)cc2)n2ccnc2)c(C)c2cc(Br)ccc21</td>\n",
       "    </tr>\n",
       "    <tr>\n",
       "      <th>3</th>\n",
       "      <td>CHEMBL113637</td>\n",
       "      <td>57.00</td>\n",
       "      <td>active</td>\n",
       "      <td>CCn1cc(C(c2ccc(F)cc2)n2ccnc2)c2ccccc21</td>\n",
       "    </tr>\n",
       "    <tr>\n",
       "      <th>4</th>\n",
       "      <td>CHEMBL112021</td>\n",
       "      <td>54.00</td>\n",
       "      <td>active</td>\n",
       "      <td>Clc1ccccc1Cn1cc(Cn2ccnc2)c2ccccc21</td>\n",
       "    </tr>\n",
       "    <tr>\n",
       "      <th>...</th>\n",
       "      <td>...</td>\n",
       "      <td>...</td>\n",
       "      <td>...</td>\n",
       "      <td>...</td>\n",
       "    </tr>\n",
       "    <tr>\n",
       "      <th>2111</th>\n",
       "      <td>CHEMBL5203413</td>\n",
       "      <td>0.09</td>\n",
       "      <td>active</td>\n",
       "      <td>CC#CCOc1ccc2cc(C(c3ccc(C#N)cc3)n3cncn3)oc2c1</td>\n",
       "    </tr>\n",
       "    <tr>\n",
       "      <th>2112</th>\n",
       "      <td>CHEMBL5179009</td>\n",
       "      <td>0.72</td>\n",
       "      <td>active</td>\n",
       "      <td>CCC#CCOc1ccc2cc(C(c3ccc(C#N)cc3)n3cncn3)oc2c1</td>\n",
       "    </tr>\n",
       "    <tr>\n",
       "      <th>2113</th>\n",
       "      <td>CHEMBL5184829</td>\n",
       "      <td>10000.00</td>\n",
       "      <td>inactive</td>\n",
       "      <td>O=C(Nc1ccc2[nH]ncc2c1)[C@]12ON=C(c3cccnc3)[C@H...</td>\n",
       "    </tr>\n",
       "    <tr>\n",
       "      <th>2114</th>\n",
       "      <td>CHEMBL5176279</td>\n",
       "      <td>31.00</td>\n",
       "      <td>active</td>\n",
       "      <td>CCOC(=O)Cc1csc(N/N=C/c2ccc3cc(OC)ccc3c2)n1</td>\n",
       "    </tr>\n",
       "    <tr>\n",
       "      <th>2115</th>\n",
       "      <td>CHEMBL5177928</td>\n",
       "      <td>42.00</td>\n",
       "      <td>active</td>\n",
       "      <td>COc1ccc2cc(/C=N/NC3=NC(=O)CS3)ccc2c1</td>\n",
       "    </tr>\n",
       "  </tbody>\n",
       "</table>\n",
       "<p>2116 rows × 4 columns</p>\n",
       "</div>"
      ],
      "text/plain": [
       "     molecule_chembl_id  standard_value         class   \n",
       "0          CHEMBL341591         7100.00  intermediate  \\\n",
       "1         CHEMBL2111947        50000.00      inactive   \n",
       "2          CHEMBL431859          238.00        active   \n",
       "3          CHEMBL113637           57.00        active   \n",
       "4          CHEMBL112021           54.00        active   \n",
       "...                 ...             ...           ...   \n",
       "2111      CHEMBL5203413            0.09        active   \n",
       "2112      CHEMBL5179009            0.72        active   \n",
       "2113      CHEMBL5184829        10000.00      inactive   \n",
       "2114      CHEMBL5176279           31.00        active   \n",
       "2115      CHEMBL5177928           42.00        active   \n",
       "\n",
       "                                       canonical_smiles  \n",
       "0             CC12CCC(O)CC1=CCC1C2CCC2(C)C(CC3CN3)CCC12  \n",
       "1     C[C@]12CC[C@H]3[C@@H](CC=C4C[C@@H](O)CC[C@@]43...  \n",
       "2         CCn1c(C(c2ccc(F)cc2)n2ccnc2)c(C)c2cc(Br)ccc21  \n",
       "3                CCn1cc(C(c2ccc(F)cc2)n2ccnc2)c2ccccc21  \n",
       "4                    Clc1ccccc1Cn1cc(Cn2ccnc2)c2ccccc21  \n",
       "...                                                 ...  \n",
       "2111       CC#CCOc1ccc2cc(C(c3ccc(C#N)cc3)n3cncn3)oc2c1  \n",
       "2112      CCC#CCOc1ccc2cc(C(c3ccc(C#N)cc3)n3cncn3)oc2c1  \n",
       "2113  O=C(Nc1ccc2[nH]ncc2c1)[C@]12ON=C(c3cccnc3)[C@H...  \n",
       "2114         CCOC(=O)Cc1csc(N/N=C/c2ccc3cc(OC)ccc3c2)n1  \n",
       "2115               COc1ccc2cc(/C=N/NC3=NC(=O)CS3)ccc2c1  \n",
       "\n",
       "[2116 rows x 4 columns]"
      ]
     },
     "execution_count": 7,
     "metadata": {},
     "output_type": "execute_result"
    }
   ],
   "source": [
    "df_clean_smiles = pd.concat([df_no_smiles,smiles], axis=1)\n",
    "df_clean_smiles"
   ]
  },
  {
   "cell_type": "markdown",
   "metadata": {
    "colab_type": "text",
    "id": "YzN_S4Quro5S"
   },
   "source": [
    "## **Calculate Lipinski descriptors**\n",
    "Christopher Lipinski, a scientist at Pfizer, came up with a set of rule-of-thumb for evaluating the **druglikeness** of compounds. Such druglikeness is based on the Absorption, Distribution, Metabolism and Excretion (ADME) that is also known as the pharmacokinetic profile. Lipinski analyzed all orally active FDA-approved drugs in the formulation of what is to be known as the **Rule-of-Five** or **Lipinski's Rule**.\n",
    "\n",
    "The Lipinski's Rule stated the following:\n",
    "* Molecular weight < 500 Dalton\n",
    "* Octanol-water partition coefficient (LogP) < 5\n",
    "* Hydrogen bond donors < 5\n",
    "* Hydrogen bond acceptors < 10 "
   ]
  },
  {
   "cell_type": "markdown",
   "metadata": {
    "colab_type": "text",
    "id": "9qn_eQcnxY7C"
   },
   "source": [
    "### **Import libraries**"
   ]
  },
  {
   "cell_type": "code",
   "execution_count": 8,
   "metadata": {
    "colab": {},
    "colab_type": "code",
    "id": "CgBjIdT-rnRU"
   },
   "outputs": [],
   "source": [
    "import numpy as np\n",
    "from rdkit import Chem\n",
    "from rdkit.Chem import Descriptors, Lipinski"
   ]
  },
  {
   "cell_type": "markdown",
   "metadata": {
    "colab_type": "text",
    "id": "JsgTV-ByxdMa"
   },
   "source": [
    "### **Calculate descriptors**"
   ]
  },
  {
   "cell_type": "code",
   "execution_count": 9,
   "metadata": {
    "colab": {},
    "colab_type": "code",
    "id": "bCXEY7a9ugO_"
   },
   "outputs": [],
   "source": [
    "# Inspired by: https://codeocean.com/explore/capsules?query=tag:data-curation\n",
    "\n",
    "def lipinski(smiles, verbose=False):\n",
    "\n",
    "    moldata= []\n",
    "    for elem in smiles:\n",
    "        mol=Chem.MolFromSmiles(elem) \n",
    "        moldata.append(mol)\n",
    "       \n",
    "    baseData= np.arange(1,1)\n",
    "    i=0  \n",
    "    for mol in moldata:        \n",
    "       \n",
    "        desc_MolWt = Descriptors.MolWt(mol)\n",
    "        desc_MolLogP = Descriptors.MolLogP(mol)\n",
    "        desc_NumHDonors = Lipinski.NumHDonors(mol)\n",
    "        desc_NumHAcceptors = Lipinski.NumHAcceptors(mol)\n",
    "           \n",
    "        row = np.array([desc_MolWt,\n",
    "                        desc_MolLogP,\n",
    "                        desc_NumHDonors,\n",
    "                        desc_NumHAcceptors])   \n",
    "    \n",
    "        if(i==0):\n",
    "            baseData=row\n",
    "        else:\n",
    "            baseData=np.vstack([baseData, row])\n",
    "        i=i+1      \n",
    "    \n",
    "    columnNames=[\"MW\",\"LogP\",\"NumHDonors\",\"NumHAcceptors\"]   \n",
    "    descriptors = pd.DataFrame(data=baseData,columns=columnNames)\n",
    "    \n",
    "    return descriptors"
   ]
  },
  {
   "cell_type": "code",
   "execution_count": 10,
   "metadata": {
    "colab": {
     "base_uri": "https://localhost:8080/",
     "height": 419
    },
    "colab_type": "code",
    "id": "ThFIFw8IukMY",
    "outputId": "574c050c-44f1-43be-bf6c-bf973d8d0675"
   },
   "outputs": [
    {
     "data": {
      "text/html": [
       "<div>\n",
       "<style scoped>\n",
       "    .dataframe tbody tr th:only-of-type {\n",
       "        vertical-align: middle;\n",
       "    }\n",
       "\n",
       "    .dataframe tbody tr th {\n",
       "        vertical-align: top;\n",
       "    }\n",
       "\n",
       "    .dataframe thead th {\n",
       "        text-align: right;\n",
       "    }\n",
       "</style>\n",
       "<table border=\"1\" class=\"dataframe\">\n",
       "  <thead>\n",
       "    <tr style=\"text-align: right;\">\n",
       "      <th></th>\n",
       "      <th>MW</th>\n",
       "      <th>LogP</th>\n",
       "      <th>NumHDonors</th>\n",
       "      <th>NumHAcceptors</th>\n",
       "    </tr>\n",
       "  </thead>\n",
       "  <tbody>\n",
       "    <tr>\n",
       "      <th>0</th>\n",
       "      <td>329.528</td>\n",
       "      <td>4.28820</td>\n",
       "      <td>2.0</td>\n",
       "      <td>2.0</td>\n",
       "    </tr>\n",
       "    <tr>\n",
       "      <th>1</th>\n",
       "      <td>315.501</td>\n",
       "      <td>3.89810</td>\n",
       "      <td>2.0</td>\n",
       "      <td>2.0</td>\n",
       "    </tr>\n",
       "    <tr>\n",
       "      <th>2</th>\n",
       "      <td>412.306</td>\n",
       "      <td>5.70542</td>\n",
       "      <td>0.0</td>\n",
       "      <td>3.0</td>\n",
       "    </tr>\n",
       "    <tr>\n",
       "      <th>3</th>\n",
       "      <td>319.383</td>\n",
       "      <td>4.63450</td>\n",
       "      <td>0.0</td>\n",
       "      <td>3.0</td>\n",
       "    </tr>\n",
       "    <tr>\n",
       "      <th>4</th>\n",
       "      <td>321.811</td>\n",
       "      <td>4.58780</td>\n",
       "      <td>0.0</td>\n",
       "      <td>3.0</td>\n",
       "    </tr>\n",
       "    <tr>\n",
       "      <th>...</th>\n",
       "      <td>...</td>\n",
       "      <td>...</td>\n",
       "      <td>...</td>\n",
       "      <td>...</td>\n",
       "    </tr>\n",
       "    <tr>\n",
       "      <th>2111</th>\n",
       "      <td>368.396</td>\n",
       "      <td>3.93578</td>\n",
       "      <td>0.0</td>\n",
       "      <td>6.0</td>\n",
       "    </tr>\n",
       "    <tr>\n",
       "      <th>2112</th>\n",
       "      <td>382.423</td>\n",
       "      <td>4.32588</td>\n",
       "      <td>0.0</td>\n",
       "      <td>6.0</td>\n",
       "    </tr>\n",
       "    <tr>\n",
       "      <th>2113</th>\n",
       "      <td>373.416</td>\n",
       "      <td>3.11580</td>\n",
       "      <td>2.0</td>\n",
       "      <td>5.0</td>\n",
       "    </tr>\n",
       "    <tr>\n",
       "      <th>2114</th>\n",
       "      <td>369.446</td>\n",
       "      <td>3.85650</td>\n",
       "      <td>1.0</td>\n",
       "      <td>7.0</td>\n",
       "    </tr>\n",
       "    <tr>\n",
       "      <th>2115</th>\n",
       "      <td>299.355</td>\n",
       "      <td>2.40130</td>\n",
       "      <td>1.0</td>\n",
       "      <td>5.0</td>\n",
       "    </tr>\n",
       "  </tbody>\n",
       "</table>\n",
       "<p>2116 rows × 4 columns</p>\n",
       "</div>"
      ],
      "text/plain": [
       "           MW     LogP  NumHDonors  NumHAcceptors\n",
       "0     329.528  4.28820         2.0            2.0\n",
       "1     315.501  3.89810         2.0            2.0\n",
       "2     412.306  5.70542         0.0            3.0\n",
       "3     319.383  4.63450         0.0            3.0\n",
       "4     321.811  4.58780         0.0            3.0\n",
       "...       ...      ...         ...            ...\n",
       "2111  368.396  3.93578         0.0            6.0\n",
       "2112  382.423  4.32588         0.0            6.0\n",
       "2113  373.416  3.11580         2.0            5.0\n",
       "2114  369.446  3.85650         1.0            7.0\n",
       "2115  299.355  2.40130         1.0            5.0\n",
       "\n",
       "[2116 rows x 4 columns]"
      ]
     },
     "execution_count": 10,
     "metadata": {},
     "output_type": "execute_result"
    }
   ],
   "source": [
    "df_lipinski = lipinski(df_clean_smiles.canonical_smiles)\n",
    "df_lipinski"
   ]
  },
  {
   "cell_type": "markdown",
   "metadata": {
    "colab_type": "text",
    "id": "gUMlPfFrxicj"
   },
   "source": [
    "### **Combine DataFrames**\n",
    "\n",
    "Let's take a look at the 2 DataFrames that will be combined."
   ]
  },
  {
   "cell_type": "code",
   "execution_count": 11,
   "metadata": {
    "colab": {
     "base_uri": "https://localhost:8080/",
     "height": 419
    },
    "colab_type": "code",
    "id": "DaezyM5vwp9n",
    "outputId": "14dfe606-85e1-43ca-aaec-feb5b59f5404"
   },
   "outputs": [
    {
     "data": {
      "text/html": [
       "<div>\n",
       "<style scoped>\n",
       "    .dataframe tbody tr th:only-of-type {\n",
       "        vertical-align: middle;\n",
       "    }\n",
       "\n",
       "    .dataframe tbody tr th {\n",
       "        vertical-align: top;\n",
       "    }\n",
       "\n",
       "    .dataframe thead th {\n",
       "        text-align: right;\n",
       "    }\n",
       "</style>\n",
       "<table border=\"1\" class=\"dataframe\">\n",
       "  <thead>\n",
       "    <tr style=\"text-align: right;\">\n",
       "      <th></th>\n",
       "      <th>MW</th>\n",
       "      <th>LogP</th>\n",
       "      <th>NumHDonors</th>\n",
       "      <th>NumHAcceptors</th>\n",
       "    </tr>\n",
       "  </thead>\n",
       "  <tbody>\n",
       "    <tr>\n",
       "      <th>0</th>\n",
       "      <td>329.528</td>\n",
       "      <td>4.28820</td>\n",
       "      <td>2.0</td>\n",
       "      <td>2.0</td>\n",
       "    </tr>\n",
       "    <tr>\n",
       "      <th>1</th>\n",
       "      <td>315.501</td>\n",
       "      <td>3.89810</td>\n",
       "      <td>2.0</td>\n",
       "      <td>2.0</td>\n",
       "    </tr>\n",
       "    <tr>\n",
       "      <th>2</th>\n",
       "      <td>412.306</td>\n",
       "      <td>5.70542</td>\n",
       "      <td>0.0</td>\n",
       "      <td>3.0</td>\n",
       "    </tr>\n",
       "    <tr>\n",
       "      <th>3</th>\n",
       "      <td>319.383</td>\n",
       "      <td>4.63450</td>\n",
       "      <td>0.0</td>\n",
       "      <td>3.0</td>\n",
       "    </tr>\n",
       "    <tr>\n",
       "      <th>4</th>\n",
       "      <td>321.811</td>\n",
       "      <td>4.58780</td>\n",
       "      <td>0.0</td>\n",
       "      <td>3.0</td>\n",
       "    </tr>\n",
       "    <tr>\n",
       "      <th>...</th>\n",
       "      <td>...</td>\n",
       "      <td>...</td>\n",
       "      <td>...</td>\n",
       "      <td>...</td>\n",
       "    </tr>\n",
       "    <tr>\n",
       "      <th>2111</th>\n",
       "      <td>368.396</td>\n",
       "      <td>3.93578</td>\n",
       "      <td>0.0</td>\n",
       "      <td>6.0</td>\n",
       "    </tr>\n",
       "    <tr>\n",
       "      <th>2112</th>\n",
       "      <td>382.423</td>\n",
       "      <td>4.32588</td>\n",
       "      <td>0.0</td>\n",
       "      <td>6.0</td>\n",
       "    </tr>\n",
       "    <tr>\n",
       "      <th>2113</th>\n",
       "      <td>373.416</td>\n",
       "      <td>3.11580</td>\n",
       "      <td>2.0</td>\n",
       "      <td>5.0</td>\n",
       "    </tr>\n",
       "    <tr>\n",
       "      <th>2114</th>\n",
       "      <td>369.446</td>\n",
       "      <td>3.85650</td>\n",
       "      <td>1.0</td>\n",
       "      <td>7.0</td>\n",
       "    </tr>\n",
       "    <tr>\n",
       "      <th>2115</th>\n",
       "      <td>299.355</td>\n",
       "      <td>2.40130</td>\n",
       "      <td>1.0</td>\n",
       "      <td>5.0</td>\n",
       "    </tr>\n",
       "  </tbody>\n",
       "</table>\n",
       "<p>2116 rows × 4 columns</p>\n",
       "</div>"
      ],
      "text/plain": [
       "           MW     LogP  NumHDonors  NumHAcceptors\n",
       "0     329.528  4.28820         2.0            2.0\n",
       "1     315.501  3.89810         2.0            2.0\n",
       "2     412.306  5.70542         0.0            3.0\n",
       "3     319.383  4.63450         0.0            3.0\n",
       "4     321.811  4.58780         0.0            3.0\n",
       "...       ...      ...         ...            ...\n",
       "2111  368.396  3.93578         0.0            6.0\n",
       "2112  382.423  4.32588         0.0            6.0\n",
       "2113  373.416  3.11580         2.0            5.0\n",
       "2114  369.446  3.85650         1.0            7.0\n",
       "2115  299.355  2.40130         1.0            5.0\n",
       "\n",
       "[2116 rows x 4 columns]"
      ]
     },
     "execution_count": 11,
     "metadata": {},
     "output_type": "execute_result"
    }
   ],
   "source": [
    "df_lipinski"
   ]
  },
  {
   "cell_type": "code",
   "execution_count": 12,
   "metadata": {
    "colab": {
     "base_uri": "https://localhost:8080/",
     "height": 419
    },
    "colab_type": "code",
    "id": "9-ChzM8_wuq_",
    "outputId": "64a6a0c0-e29a-4cdd-c9ea-9b102b63cfe2"
   },
   "outputs": [
    {
     "data": {
      "text/html": [
       "<div>\n",
       "<style scoped>\n",
       "    .dataframe tbody tr th:only-of-type {\n",
       "        vertical-align: middle;\n",
       "    }\n",
       "\n",
       "    .dataframe tbody tr th {\n",
       "        vertical-align: top;\n",
       "    }\n",
       "\n",
       "    .dataframe thead th {\n",
       "        text-align: right;\n",
       "    }\n",
       "</style>\n",
       "<table border=\"1\" class=\"dataframe\">\n",
       "  <thead>\n",
       "    <tr style=\"text-align: right;\">\n",
       "      <th></th>\n",
       "      <th>molecule_chembl_id</th>\n",
       "      <th>canonical_smiles</th>\n",
       "      <th>standard_value</th>\n",
       "      <th>class</th>\n",
       "    </tr>\n",
       "  </thead>\n",
       "  <tbody>\n",
       "    <tr>\n",
       "      <th>0</th>\n",
       "      <td>CHEMBL341591</td>\n",
       "      <td>CC12CCC(O)CC1=CCC1C2CCC2(C)C(CC3CN3)CCC12</td>\n",
       "      <td>7100.00</td>\n",
       "      <td>intermediate</td>\n",
       "    </tr>\n",
       "    <tr>\n",
       "      <th>1</th>\n",
       "      <td>CHEMBL2111947</td>\n",
       "      <td>C[C@]12CC[C@H]3[C@@H](CC=C4C[C@@H](O)CC[C@@]43...</td>\n",
       "      <td>50000.00</td>\n",
       "      <td>inactive</td>\n",
       "    </tr>\n",
       "    <tr>\n",
       "      <th>2</th>\n",
       "      <td>CHEMBL431859</td>\n",
       "      <td>CCn1c(C(c2ccc(F)cc2)n2ccnc2)c(C)c2cc(Br)ccc21</td>\n",
       "      <td>238.00</td>\n",
       "      <td>active</td>\n",
       "    </tr>\n",
       "    <tr>\n",
       "      <th>3</th>\n",
       "      <td>CHEMBL113637</td>\n",
       "      <td>CCn1cc(C(c2ccc(F)cc2)n2ccnc2)c2ccccc21</td>\n",
       "      <td>57.00</td>\n",
       "      <td>active</td>\n",
       "    </tr>\n",
       "    <tr>\n",
       "      <th>4</th>\n",
       "      <td>CHEMBL112021</td>\n",
       "      <td>Clc1ccccc1Cn1cc(Cn2ccnc2)c2ccccc21</td>\n",
       "      <td>54.00</td>\n",
       "      <td>active</td>\n",
       "    </tr>\n",
       "    <tr>\n",
       "      <th>...</th>\n",
       "      <td>...</td>\n",
       "      <td>...</td>\n",
       "      <td>...</td>\n",
       "      <td>...</td>\n",
       "    </tr>\n",
       "    <tr>\n",
       "      <th>2111</th>\n",
       "      <td>CHEMBL5203413</td>\n",
       "      <td>CC#CCOc1ccc2cc(C(c3ccc(C#N)cc3)n3cncn3)oc2c1</td>\n",
       "      <td>0.09</td>\n",
       "      <td>active</td>\n",
       "    </tr>\n",
       "    <tr>\n",
       "      <th>2112</th>\n",
       "      <td>CHEMBL5179009</td>\n",
       "      <td>CCC#CCOc1ccc2cc(C(c3ccc(C#N)cc3)n3cncn3)oc2c1</td>\n",
       "      <td>0.72</td>\n",
       "      <td>active</td>\n",
       "    </tr>\n",
       "    <tr>\n",
       "      <th>2113</th>\n",
       "      <td>CHEMBL5184829</td>\n",
       "      <td>O=C(Nc1ccc2[nH]ncc2c1)[C@]12ON=C(c3cccnc3)[C@H...</td>\n",
       "      <td>10000.00</td>\n",
       "      <td>inactive</td>\n",
       "    </tr>\n",
       "    <tr>\n",
       "      <th>2114</th>\n",
       "      <td>CHEMBL5176279</td>\n",
       "      <td>CCOC(=O)Cc1csc(N/N=C/c2ccc3cc(OC)ccc3c2)n1</td>\n",
       "      <td>31.00</td>\n",
       "      <td>active</td>\n",
       "    </tr>\n",
       "    <tr>\n",
       "      <th>2115</th>\n",
       "      <td>CHEMBL5177928</td>\n",
       "      <td>COc1ccc2cc(/C=N/NC3=NC(=O)CS3)ccc2c1</td>\n",
       "      <td>42.00</td>\n",
       "      <td>active</td>\n",
       "    </tr>\n",
       "  </tbody>\n",
       "</table>\n",
       "<p>2116 rows × 4 columns</p>\n",
       "</div>"
      ],
      "text/plain": [
       "     molecule_chembl_id                                   canonical_smiles   \n",
       "0          CHEMBL341591          CC12CCC(O)CC1=CCC1C2CCC2(C)C(CC3CN3)CCC12  \\\n",
       "1         CHEMBL2111947  C[C@]12CC[C@H]3[C@@H](CC=C4C[C@@H](O)CC[C@@]43...   \n",
       "2          CHEMBL431859      CCn1c(C(c2ccc(F)cc2)n2ccnc2)c(C)c2cc(Br)ccc21   \n",
       "3          CHEMBL113637             CCn1cc(C(c2ccc(F)cc2)n2ccnc2)c2ccccc21   \n",
       "4          CHEMBL112021                 Clc1ccccc1Cn1cc(Cn2ccnc2)c2ccccc21   \n",
       "...                 ...                                                ...   \n",
       "2111      CHEMBL5203413       CC#CCOc1ccc2cc(C(c3ccc(C#N)cc3)n3cncn3)oc2c1   \n",
       "2112      CHEMBL5179009      CCC#CCOc1ccc2cc(C(c3ccc(C#N)cc3)n3cncn3)oc2c1   \n",
       "2113      CHEMBL5184829  O=C(Nc1ccc2[nH]ncc2c1)[C@]12ON=C(c3cccnc3)[C@H...   \n",
       "2114      CHEMBL5176279         CCOC(=O)Cc1csc(N/N=C/c2ccc3cc(OC)ccc3c2)n1   \n",
       "2115      CHEMBL5177928               COc1ccc2cc(/C=N/NC3=NC(=O)CS3)ccc2c1   \n",
       "\n",
       "      standard_value         class  \n",
       "0            7100.00  intermediate  \n",
       "1           50000.00      inactive  \n",
       "2             238.00        active  \n",
       "3              57.00        active  \n",
       "4              54.00        active  \n",
       "...              ...           ...  \n",
       "2111            0.09        active  \n",
       "2112            0.72        active  \n",
       "2113        10000.00      inactive  \n",
       "2114           31.00        active  \n",
       "2115           42.00        active  \n",
       "\n",
       "[2116 rows x 4 columns]"
      ]
     },
     "execution_count": 12,
     "metadata": {},
     "output_type": "execute_result"
    }
   ],
   "source": [
    "df"
   ]
  },
  {
   "cell_type": "markdown",
   "metadata": {
    "colab_type": "text",
    "id": "eET6iZ1Aw3oe"
   },
   "source": [
    "Now, let's combine the 2 DataFrame"
   ]
  },
  {
   "cell_type": "code",
   "execution_count": 13,
   "metadata": {
    "colab": {},
    "colab_type": "code",
    "id": "L9nUZC0Ww3gp"
   },
   "outputs": [],
   "source": [
    "df_combined = pd.concat([df,df_lipinski], axis=1)"
   ]
  },
  {
   "cell_type": "code",
   "execution_count": 14,
   "metadata": {
    "colab": {
     "base_uri": "https://localhost:8080/",
     "height": 419
    },
    "colab_type": "code",
    "id": "FRBfBP3QxFJp",
    "outputId": "33528544-8108-4303-a9f2-977c0f6aef91"
   },
   "outputs": [
    {
     "data": {
      "text/html": [
       "<div>\n",
       "<style scoped>\n",
       "    .dataframe tbody tr th:only-of-type {\n",
       "        vertical-align: middle;\n",
       "    }\n",
       "\n",
       "    .dataframe tbody tr th {\n",
       "        vertical-align: top;\n",
       "    }\n",
       "\n",
       "    .dataframe thead th {\n",
       "        text-align: right;\n",
       "    }\n",
       "</style>\n",
       "<table border=\"1\" class=\"dataframe\">\n",
       "  <thead>\n",
       "    <tr style=\"text-align: right;\">\n",
       "      <th></th>\n",
       "      <th>molecule_chembl_id</th>\n",
       "      <th>canonical_smiles</th>\n",
       "      <th>standard_value</th>\n",
       "      <th>class</th>\n",
       "      <th>MW</th>\n",
       "      <th>LogP</th>\n",
       "      <th>NumHDonors</th>\n",
       "      <th>NumHAcceptors</th>\n",
       "    </tr>\n",
       "  </thead>\n",
       "  <tbody>\n",
       "    <tr>\n",
       "      <th>0</th>\n",
       "      <td>CHEMBL341591</td>\n",
       "      <td>CC12CCC(O)CC1=CCC1C2CCC2(C)C(CC3CN3)CCC12</td>\n",
       "      <td>7100.00</td>\n",
       "      <td>intermediate</td>\n",
       "      <td>329.528</td>\n",
       "      <td>4.28820</td>\n",
       "      <td>2.0</td>\n",
       "      <td>2.0</td>\n",
       "    </tr>\n",
       "    <tr>\n",
       "      <th>1</th>\n",
       "      <td>CHEMBL2111947</td>\n",
       "      <td>C[C@]12CC[C@H]3[C@@H](CC=C4C[C@@H](O)CC[C@@]43...</td>\n",
       "      <td>50000.00</td>\n",
       "      <td>inactive</td>\n",
       "      <td>315.501</td>\n",
       "      <td>3.89810</td>\n",
       "      <td>2.0</td>\n",
       "      <td>2.0</td>\n",
       "    </tr>\n",
       "    <tr>\n",
       "      <th>2</th>\n",
       "      <td>CHEMBL431859</td>\n",
       "      <td>CCn1c(C(c2ccc(F)cc2)n2ccnc2)c(C)c2cc(Br)ccc21</td>\n",
       "      <td>238.00</td>\n",
       "      <td>active</td>\n",
       "      <td>412.306</td>\n",
       "      <td>5.70542</td>\n",
       "      <td>0.0</td>\n",
       "      <td>3.0</td>\n",
       "    </tr>\n",
       "    <tr>\n",
       "      <th>3</th>\n",
       "      <td>CHEMBL113637</td>\n",
       "      <td>CCn1cc(C(c2ccc(F)cc2)n2ccnc2)c2ccccc21</td>\n",
       "      <td>57.00</td>\n",
       "      <td>active</td>\n",
       "      <td>319.383</td>\n",
       "      <td>4.63450</td>\n",
       "      <td>0.0</td>\n",
       "      <td>3.0</td>\n",
       "    </tr>\n",
       "    <tr>\n",
       "      <th>4</th>\n",
       "      <td>CHEMBL112021</td>\n",
       "      <td>Clc1ccccc1Cn1cc(Cn2ccnc2)c2ccccc21</td>\n",
       "      <td>54.00</td>\n",
       "      <td>active</td>\n",
       "      <td>321.811</td>\n",
       "      <td>4.58780</td>\n",
       "      <td>0.0</td>\n",
       "      <td>3.0</td>\n",
       "    </tr>\n",
       "    <tr>\n",
       "      <th>...</th>\n",
       "      <td>...</td>\n",
       "      <td>...</td>\n",
       "      <td>...</td>\n",
       "      <td>...</td>\n",
       "      <td>...</td>\n",
       "      <td>...</td>\n",
       "      <td>...</td>\n",
       "      <td>...</td>\n",
       "    </tr>\n",
       "    <tr>\n",
       "      <th>2111</th>\n",
       "      <td>CHEMBL5203413</td>\n",
       "      <td>CC#CCOc1ccc2cc(C(c3ccc(C#N)cc3)n3cncn3)oc2c1</td>\n",
       "      <td>0.09</td>\n",
       "      <td>active</td>\n",
       "      <td>368.396</td>\n",
       "      <td>3.93578</td>\n",
       "      <td>0.0</td>\n",
       "      <td>6.0</td>\n",
       "    </tr>\n",
       "    <tr>\n",
       "      <th>2112</th>\n",
       "      <td>CHEMBL5179009</td>\n",
       "      <td>CCC#CCOc1ccc2cc(C(c3ccc(C#N)cc3)n3cncn3)oc2c1</td>\n",
       "      <td>0.72</td>\n",
       "      <td>active</td>\n",
       "      <td>382.423</td>\n",
       "      <td>4.32588</td>\n",
       "      <td>0.0</td>\n",
       "      <td>6.0</td>\n",
       "    </tr>\n",
       "    <tr>\n",
       "      <th>2113</th>\n",
       "      <td>CHEMBL5184829</td>\n",
       "      <td>O=C(Nc1ccc2[nH]ncc2c1)[C@]12ON=C(c3cccnc3)[C@H...</td>\n",
       "      <td>10000.00</td>\n",
       "      <td>inactive</td>\n",
       "      <td>373.416</td>\n",
       "      <td>3.11580</td>\n",
       "      <td>2.0</td>\n",
       "      <td>5.0</td>\n",
       "    </tr>\n",
       "    <tr>\n",
       "      <th>2114</th>\n",
       "      <td>CHEMBL5176279</td>\n",
       "      <td>CCOC(=O)Cc1csc(N/N=C/c2ccc3cc(OC)ccc3c2)n1</td>\n",
       "      <td>31.00</td>\n",
       "      <td>active</td>\n",
       "      <td>369.446</td>\n",
       "      <td>3.85650</td>\n",
       "      <td>1.0</td>\n",
       "      <td>7.0</td>\n",
       "    </tr>\n",
       "    <tr>\n",
       "      <th>2115</th>\n",
       "      <td>CHEMBL5177928</td>\n",
       "      <td>COc1ccc2cc(/C=N/NC3=NC(=O)CS3)ccc2c1</td>\n",
       "      <td>42.00</td>\n",
       "      <td>active</td>\n",
       "      <td>299.355</td>\n",
       "      <td>2.40130</td>\n",
       "      <td>1.0</td>\n",
       "      <td>5.0</td>\n",
       "    </tr>\n",
       "  </tbody>\n",
       "</table>\n",
       "<p>2116 rows × 8 columns</p>\n",
       "</div>"
      ],
      "text/plain": [
       "     molecule_chembl_id                                   canonical_smiles   \n",
       "0          CHEMBL341591          CC12CCC(O)CC1=CCC1C2CCC2(C)C(CC3CN3)CCC12  \\\n",
       "1         CHEMBL2111947  C[C@]12CC[C@H]3[C@@H](CC=C4C[C@@H](O)CC[C@@]43...   \n",
       "2          CHEMBL431859      CCn1c(C(c2ccc(F)cc2)n2ccnc2)c(C)c2cc(Br)ccc21   \n",
       "3          CHEMBL113637             CCn1cc(C(c2ccc(F)cc2)n2ccnc2)c2ccccc21   \n",
       "4          CHEMBL112021                 Clc1ccccc1Cn1cc(Cn2ccnc2)c2ccccc21   \n",
       "...                 ...                                                ...   \n",
       "2111      CHEMBL5203413       CC#CCOc1ccc2cc(C(c3ccc(C#N)cc3)n3cncn3)oc2c1   \n",
       "2112      CHEMBL5179009      CCC#CCOc1ccc2cc(C(c3ccc(C#N)cc3)n3cncn3)oc2c1   \n",
       "2113      CHEMBL5184829  O=C(Nc1ccc2[nH]ncc2c1)[C@]12ON=C(c3cccnc3)[C@H...   \n",
       "2114      CHEMBL5176279         CCOC(=O)Cc1csc(N/N=C/c2ccc3cc(OC)ccc3c2)n1   \n",
       "2115      CHEMBL5177928               COc1ccc2cc(/C=N/NC3=NC(=O)CS3)ccc2c1   \n",
       "\n",
       "      standard_value         class       MW     LogP  NumHDonors   \n",
       "0            7100.00  intermediate  329.528  4.28820         2.0  \\\n",
       "1           50000.00      inactive  315.501  3.89810         2.0   \n",
       "2             238.00        active  412.306  5.70542         0.0   \n",
       "3              57.00        active  319.383  4.63450         0.0   \n",
       "4              54.00        active  321.811  4.58780         0.0   \n",
       "...              ...           ...      ...      ...         ...   \n",
       "2111            0.09        active  368.396  3.93578         0.0   \n",
       "2112            0.72        active  382.423  4.32588         0.0   \n",
       "2113        10000.00      inactive  373.416  3.11580         2.0   \n",
       "2114           31.00        active  369.446  3.85650         1.0   \n",
       "2115           42.00        active  299.355  2.40130         1.0   \n",
       "\n",
       "      NumHAcceptors  \n",
       "0               2.0  \n",
       "1               2.0  \n",
       "2               3.0  \n",
       "3               3.0  \n",
       "4               3.0  \n",
       "...             ...  \n",
       "2111            6.0  \n",
       "2112            6.0  \n",
       "2113            5.0  \n",
       "2114            7.0  \n",
       "2115            5.0  \n",
       "\n",
       "[2116 rows x 8 columns]"
      ]
     },
     "execution_count": 14,
     "metadata": {},
     "output_type": "execute_result"
    }
   ],
   "source": [
    "df_combined"
   ]
  },
  {
   "cell_type": "markdown",
   "metadata": {
    "colab_type": "text",
    "id": "e0MLOedB6j96"
   },
   "source": [
    "### **Convert IC50 to pIC50**\n",
    "To allow **IC50** data to be more uniformly distributed, we will convert **IC50** to the negative logarithmic scale which is essentially **-log10(IC50)**.\n",
    "\n",
    "This custom function pIC50() will accept a DataFrame as input and will:\n",
    "* Take the IC50 values from the ``standard_value`` column and converts it from nM to M by multiplying the value by 10$^{-9}$\n",
    "* Take the molar value and apply -log10\n",
    "* Delete the ``standard_value`` column and create a new ``pIC50`` column"
   ]
  },
  {
   "cell_type": "code",
   "execution_count": 15,
   "metadata": {
    "colab": {},
    "colab_type": "code",
    "id": "UXMuFQoQ4pZF"
   },
   "outputs": [],
   "source": [
    "# https://github.com/chaninlab/estrogen-receptor-alpha-qsar/blob/master/02_ER_alpha_RO5.ipynb\n",
    "\n",
    "import numpy as np\n",
    "\n",
    "def pIC50(input):\n",
    "    pIC50 = []\n",
    "\n",
    "    for i in input['standard_value_norm']:\n",
    "        molar = i * (10**-9)  # Converts nM to M\n",
    "        if molar == 0:\n",
    "            pIC50.append(0)\n",
    "        else:\n",
    "            pIC50.append(-np.log10(molar))\n",
    "\n",
    "    input['pIC50'] = pIC50\n",
    "    x = input.drop('standard_value_norm', axis=1)  # Use 'axis' instead of the numeric index\n",
    "        \n",
    "    return x"
   ]
  },
  {
   "cell_type": "markdown",
   "metadata": {
    "colab_type": "text",
    "id": "WU5Fh1h2OaJJ"
   },
   "source": [
    "Point to note: Values greater than 100,000,000 will be fixed at 100,000,000 otherwise the negative logarithmic value will become negative."
   ]
  },
  {
   "cell_type": "code",
   "execution_count": 16,
   "metadata": {
    "colab": {
     "base_uri": "https://localhost:8080/",
     "height": 170
    },
    "colab_type": "code",
    "id": "QuUTFUpcR1wU",
    "outputId": "3e3fe22d-8587-42e3-c92e-396d37877589"
   },
   "outputs": [
    {
     "data": {
      "text/plain": [
       "count      2116.000000\n",
       "mean      14342.985445\n",
       "std       50757.159724\n",
       "min           0.000000\n",
       "25%         120.000000\n",
       "50%        1200.000000\n",
       "75%        8495.000000\n",
       "max      777000.000000\n",
       "Name: standard_value, dtype: float64"
      ]
     },
     "execution_count": 16,
     "metadata": {},
     "output_type": "execute_result"
    }
   ],
   "source": [
    "df_combined.standard_value.describe()"
   ]
  },
  {
   "cell_type": "code",
   "execution_count": 17,
   "metadata": {
    "colab": {
     "base_uri": "https://localhost:8080/",
     "height": 34
    },
    "colab_type": "code",
    "id": "QyiJ0to5N6Z_",
    "outputId": "58b38ec2-8f7d-4f44-cc35-1ef394f57854"
   },
   "outputs": [
    {
     "data": {
      "text/plain": [
       "1.0"
      ]
     },
     "execution_count": 17,
     "metadata": {},
     "output_type": "execute_result"
    }
   ],
   "source": [
    "-np.log10( (10**-9)* 100000000 )"
   ]
  },
  {
   "cell_type": "code",
   "execution_count": 18,
   "metadata": {
    "colab": {
     "base_uri": "https://localhost:8080/",
     "height": 34
    },
    "colab_type": "code",
    "id": "9S1aJkOYOP6K",
    "outputId": "0d9c6937-7c36-4844-f84b-9a95a22802dc"
   },
   "outputs": [
    {
     "data": {
      "text/plain": [
       "-1.0"
      ]
     },
     "execution_count": 18,
     "metadata": {},
     "output_type": "execute_result"
    }
   ],
   "source": [
    "-np.log10( (10**-9)* 10000000000 )"
   ]
  },
  {
   "cell_type": "code",
   "execution_count": 19,
   "metadata": {
    "colab": {},
    "colab_type": "code",
    "id": "iktHDDwtPDwl"
   },
   "outputs": [],
   "source": [
    "def norm_value(input):\n",
    "    norm = []\n",
    "\n",
    "    for i in input['standard_value']:\n",
    "        if i > 100000000:\n",
    "          i = 100000000\n",
    "        norm.append(i)\n",
    "\n",
    "    input['standard_value_norm'] = norm\n",
    "    x = input.drop(columns=['standard_value'])  # Use 'columns' parameter\n",
    "        \n",
    "    return x"
   ]
  },
  {
   "cell_type": "markdown",
   "metadata": {
    "colab_type": "text",
    "id": "EkrTs7RfPsrH"
   },
   "source": [
    "We will first apply the norm_value() function so that the values in the standard_value column is normalized."
   ]
  },
  {
   "cell_type": "code",
   "execution_count": 20,
   "metadata": {
    "colab": {
     "base_uri": "https://localhost:8080/",
     "height": 419
    },
    "colab_type": "code",
    "id": "EX2Mj2-ZP1Rj",
    "outputId": "8e07791e-d693-4d1b-9f82-f396d34c6338"
   },
   "outputs": [
    {
     "data": {
      "text/html": [
       "<div>\n",
       "<style scoped>\n",
       "    .dataframe tbody tr th:only-of-type {\n",
       "        vertical-align: middle;\n",
       "    }\n",
       "\n",
       "    .dataframe tbody tr th {\n",
       "        vertical-align: top;\n",
       "    }\n",
       "\n",
       "    .dataframe thead th {\n",
       "        text-align: right;\n",
       "    }\n",
       "</style>\n",
       "<table border=\"1\" class=\"dataframe\">\n",
       "  <thead>\n",
       "    <tr style=\"text-align: right;\">\n",
       "      <th></th>\n",
       "      <th>molecule_chembl_id</th>\n",
       "      <th>canonical_smiles</th>\n",
       "      <th>class</th>\n",
       "      <th>MW</th>\n",
       "      <th>LogP</th>\n",
       "      <th>NumHDonors</th>\n",
       "      <th>NumHAcceptors</th>\n",
       "      <th>standard_value_norm</th>\n",
       "    </tr>\n",
       "  </thead>\n",
       "  <tbody>\n",
       "    <tr>\n",
       "      <th>0</th>\n",
       "      <td>CHEMBL341591</td>\n",
       "      <td>CC12CCC(O)CC1=CCC1C2CCC2(C)C(CC3CN3)CCC12</td>\n",
       "      <td>intermediate</td>\n",
       "      <td>329.528</td>\n",
       "      <td>4.28820</td>\n",
       "      <td>2.0</td>\n",
       "      <td>2.0</td>\n",
       "      <td>7100.00</td>\n",
       "    </tr>\n",
       "    <tr>\n",
       "      <th>1</th>\n",
       "      <td>CHEMBL2111947</td>\n",
       "      <td>C[C@]12CC[C@H]3[C@@H](CC=C4C[C@@H](O)CC[C@@]43...</td>\n",
       "      <td>inactive</td>\n",
       "      <td>315.501</td>\n",
       "      <td>3.89810</td>\n",
       "      <td>2.0</td>\n",
       "      <td>2.0</td>\n",
       "      <td>50000.00</td>\n",
       "    </tr>\n",
       "    <tr>\n",
       "      <th>2</th>\n",
       "      <td>CHEMBL431859</td>\n",
       "      <td>CCn1c(C(c2ccc(F)cc2)n2ccnc2)c(C)c2cc(Br)ccc21</td>\n",
       "      <td>active</td>\n",
       "      <td>412.306</td>\n",
       "      <td>5.70542</td>\n",
       "      <td>0.0</td>\n",
       "      <td>3.0</td>\n",
       "      <td>238.00</td>\n",
       "    </tr>\n",
       "    <tr>\n",
       "      <th>3</th>\n",
       "      <td>CHEMBL113637</td>\n",
       "      <td>CCn1cc(C(c2ccc(F)cc2)n2ccnc2)c2ccccc21</td>\n",
       "      <td>active</td>\n",
       "      <td>319.383</td>\n",
       "      <td>4.63450</td>\n",
       "      <td>0.0</td>\n",
       "      <td>3.0</td>\n",
       "      <td>57.00</td>\n",
       "    </tr>\n",
       "    <tr>\n",
       "      <th>4</th>\n",
       "      <td>CHEMBL112021</td>\n",
       "      <td>Clc1ccccc1Cn1cc(Cn2ccnc2)c2ccccc21</td>\n",
       "      <td>active</td>\n",
       "      <td>321.811</td>\n",
       "      <td>4.58780</td>\n",
       "      <td>0.0</td>\n",
       "      <td>3.0</td>\n",
       "      <td>54.00</td>\n",
       "    </tr>\n",
       "    <tr>\n",
       "      <th>...</th>\n",
       "      <td>...</td>\n",
       "      <td>...</td>\n",
       "      <td>...</td>\n",
       "      <td>...</td>\n",
       "      <td>...</td>\n",
       "      <td>...</td>\n",
       "      <td>...</td>\n",
       "      <td>...</td>\n",
       "    </tr>\n",
       "    <tr>\n",
       "      <th>2111</th>\n",
       "      <td>CHEMBL5203413</td>\n",
       "      <td>CC#CCOc1ccc2cc(C(c3ccc(C#N)cc3)n3cncn3)oc2c1</td>\n",
       "      <td>active</td>\n",
       "      <td>368.396</td>\n",
       "      <td>3.93578</td>\n",
       "      <td>0.0</td>\n",
       "      <td>6.0</td>\n",
       "      <td>0.09</td>\n",
       "    </tr>\n",
       "    <tr>\n",
       "      <th>2112</th>\n",
       "      <td>CHEMBL5179009</td>\n",
       "      <td>CCC#CCOc1ccc2cc(C(c3ccc(C#N)cc3)n3cncn3)oc2c1</td>\n",
       "      <td>active</td>\n",
       "      <td>382.423</td>\n",
       "      <td>4.32588</td>\n",
       "      <td>0.0</td>\n",
       "      <td>6.0</td>\n",
       "      <td>0.72</td>\n",
       "    </tr>\n",
       "    <tr>\n",
       "      <th>2113</th>\n",
       "      <td>CHEMBL5184829</td>\n",
       "      <td>O=C(Nc1ccc2[nH]ncc2c1)[C@]12ON=C(c3cccnc3)[C@H...</td>\n",
       "      <td>inactive</td>\n",
       "      <td>373.416</td>\n",
       "      <td>3.11580</td>\n",
       "      <td>2.0</td>\n",
       "      <td>5.0</td>\n",
       "      <td>10000.00</td>\n",
       "    </tr>\n",
       "    <tr>\n",
       "      <th>2114</th>\n",
       "      <td>CHEMBL5176279</td>\n",
       "      <td>CCOC(=O)Cc1csc(N/N=C/c2ccc3cc(OC)ccc3c2)n1</td>\n",
       "      <td>active</td>\n",
       "      <td>369.446</td>\n",
       "      <td>3.85650</td>\n",
       "      <td>1.0</td>\n",
       "      <td>7.0</td>\n",
       "      <td>31.00</td>\n",
       "    </tr>\n",
       "    <tr>\n",
       "      <th>2115</th>\n",
       "      <td>CHEMBL5177928</td>\n",
       "      <td>COc1ccc2cc(/C=N/NC3=NC(=O)CS3)ccc2c1</td>\n",
       "      <td>active</td>\n",
       "      <td>299.355</td>\n",
       "      <td>2.40130</td>\n",
       "      <td>1.0</td>\n",
       "      <td>5.0</td>\n",
       "      <td>42.00</td>\n",
       "    </tr>\n",
       "  </tbody>\n",
       "</table>\n",
       "<p>2116 rows × 8 columns</p>\n",
       "</div>"
      ],
      "text/plain": [
       "     molecule_chembl_id                                   canonical_smiles   \n",
       "0          CHEMBL341591          CC12CCC(O)CC1=CCC1C2CCC2(C)C(CC3CN3)CCC12  \\\n",
       "1         CHEMBL2111947  C[C@]12CC[C@H]3[C@@H](CC=C4C[C@@H](O)CC[C@@]43...   \n",
       "2          CHEMBL431859      CCn1c(C(c2ccc(F)cc2)n2ccnc2)c(C)c2cc(Br)ccc21   \n",
       "3          CHEMBL113637             CCn1cc(C(c2ccc(F)cc2)n2ccnc2)c2ccccc21   \n",
       "4          CHEMBL112021                 Clc1ccccc1Cn1cc(Cn2ccnc2)c2ccccc21   \n",
       "...                 ...                                                ...   \n",
       "2111      CHEMBL5203413       CC#CCOc1ccc2cc(C(c3ccc(C#N)cc3)n3cncn3)oc2c1   \n",
       "2112      CHEMBL5179009      CCC#CCOc1ccc2cc(C(c3ccc(C#N)cc3)n3cncn3)oc2c1   \n",
       "2113      CHEMBL5184829  O=C(Nc1ccc2[nH]ncc2c1)[C@]12ON=C(c3cccnc3)[C@H...   \n",
       "2114      CHEMBL5176279         CCOC(=O)Cc1csc(N/N=C/c2ccc3cc(OC)ccc3c2)n1   \n",
       "2115      CHEMBL5177928               COc1ccc2cc(/C=N/NC3=NC(=O)CS3)ccc2c1   \n",
       "\n",
       "             class       MW     LogP  NumHDonors  NumHAcceptors   \n",
       "0     intermediate  329.528  4.28820         2.0            2.0  \\\n",
       "1         inactive  315.501  3.89810         2.0            2.0   \n",
       "2           active  412.306  5.70542         0.0            3.0   \n",
       "3           active  319.383  4.63450         0.0            3.0   \n",
       "4           active  321.811  4.58780         0.0            3.0   \n",
       "...            ...      ...      ...         ...            ...   \n",
       "2111        active  368.396  3.93578         0.0            6.0   \n",
       "2112        active  382.423  4.32588         0.0            6.0   \n",
       "2113      inactive  373.416  3.11580         2.0            5.0   \n",
       "2114        active  369.446  3.85650         1.0            7.0   \n",
       "2115        active  299.355  2.40130         1.0            5.0   \n",
       "\n",
       "      standard_value_norm  \n",
       "0                 7100.00  \n",
       "1                50000.00  \n",
       "2                  238.00  \n",
       "3                   57.00  \n",
       "4                   54.00  \n",
       "...                   ...  \n",
       "2111                 0.09  \n",
       "2112                 0.72  \n",
       "2113             10000.00  \n",
       "2114                31.00  \n",
       "2115                42.00  \n",
       "\n",
       "[2116 rows x 8 columns]"
      ]
     },
     "execution_count": 20,
     "metadata": {},
     "output_type": "execute_result"
    }
   ],
   "source": [
    "df_norm = norm_value(df_combined)\n",
    "df_norm"
   ]
  },
  {
   "cell_type": "code",
   "execution_count": 21,
   "metadata": {
    "colab": {
     "base_uri": "https://localhost:8080/",
     "height": 170
    },
    "colab_type": "code",
    "id": "hb1eKrIjRiH9",
    "outputId": "8435d28b-9774-4567-8134-51bfc3fc8271"
   },
   "outputs": [
    {
     "data": {
      "text/plain": [
       "count      2116.000000\n",
       "mean      14342.985445\n",
       "std       50757.159724\n",
       "min           0.000000\n",
       "25%         120.000000\n",
       "50%        1200.000000\n",
       "75%        8495.000000\n",
       "max      777000.000000\n",
       "Name: standard_value_norm, dtype: float64"
      ]
     },
     "execution_count": 21,
     "metadata": {},
     "output_type": "execute_result"
    }
   ],
   "source": [
    "df_norm.standard_value_norm.describe()"
   ]
  },
  {
   "cell_type": "code",
   "execution_count": 22,
   "metadata": {
    "colab": {
     "base_uri": "https://localhost:8080/",
     "height": 419
    },
    "colab_type": "code",
    "id": "UDKZzmK57YnS",
    "outputId": "89ec9de3-c71e-44fb-86a5-3b4172cf9e63"
   },
   "outputs": [
    {
     "data": {
      "text/html": [
       "<div>\n",
       "<style scoped>\n",
       "    .dataframe tbody tr th:only-of-type {\n",
       "        vertical-align: middle;\n",
       "    }\n",
       "\n",
       "    .dataframe tbody tr th {\n",
       "        vertical-align: top;\n",
       "    }\n",
       "\n",
       "    .dataframe thead th {\n",
       "        text-align: right;\n",
       "    }\n",
       "</style>\n",
       "<table border=\"1\" class=\"dataframe\">\n",
       "  <thead>\n",
       "    <tr style=\"text-align: right;\">\n",
       "      <th></th>\n",
       "      <th>molecule_chembl_id</th>\n",
       "      <th>canonical_smiles</th>\n",
       "      <th>class</th>\n",
       "      <th>MW</th>\n",
       "      <th>LogP</th>\n",
       "      <th>NumHDonors</th>\n",
       "      <th>NumHAcceptors</th>\n",
       "      <th>pIC50</th>\n",
       "    </tr>\n",
       "  </thead>\n",
       "  <tbody>\n",
       "    <tr>\n",
       "      <th>0</th>\n",
       "      <td>CHEMBL341591</td>\n",
       "      <td>CC12CCC(O)CC1=CCC1C2CCC2(C)C(CC3CN3)CCC12</td>\n",
       "      <td>intermediate</td>\n",
       "      <td>329.528</td>\n",
       "      <td>4.28820</td>\n",
       "      <td>2.0</td>\n",
       "      <td>2.0</td>\n",
       "      <td>5.148742</td>\n",
       "    </tr>\n",
       "    <tr>\n",
       "      <th>1</th>\n",
       "      <td>CHEMBL2111947</td>\n",
       "      <td>C[C@]12CC[C@H]3[C@@H](CC=C4C[C@@H](O)CC[C@@]43...</td>\n",
       "      <td>inactive</td>\n",
       "      <td>315.501</td>\n",
       "      <td>3.89810</td>\n",
       "      <td>2.0</td>\n",
       "      <td>2.0</td>\n",
       "      <td>4.301030</td>\n",
       "    </tr>\n",
       "    <tr>\n",
       "      <th>2</th>\n",
       "      <td>CHEMBL431859</td>\n",
       "      <td>CCn1c(C(c2ccc(F)cc2)n2ccnc2)c(C)c2cc(Br)ccc21</td>\n",
       "      <td>active</td>\n",
       "      <td>412.306</td>\n",
       "      <td>5.70542</td>\n",
       "      <td>0.0</td>\n",
       "      <td>3.0</td>\n",
       "      <td>6.623423</td>\n",
       "    </tr>\n",
       "    <tr>\n",
       "      <th>3</th>\n",
       "      <td>CHEMBL113637</td>\n",
       "      <td>CCn1cc(C(c2ccc(F)cc2)n2ccnc2)c2ccccc21</td>\n",
       "      <td>active</td>\n",
       "      <td>319.383</td>\n",
       "      <td>4.63450</td>\n",
       "      <td>0.0</td>\n",
       "      <td>3.0</td>\n",
       "      <td>7.244125</td>\n",
       "    </tr>\n",
       "    <tr>\n",
       "      <th>4</th>\n",
       "      <td>CHEMBL112021</td>\n",
       "      <td>Clc1ccccc1Cn1cc(Cn2ccnc2)c2ccccc21</td>\n",
       "      <td>active</td>\n",
       "      <td>321.811</td>\n",
       "      <td>4.58780</td>\n",
       "      <td>0.0</td>\n",
       "      <td>3.0</td>\n",
       "      <td>7.267606</td>\n",
       "    </tr>\n",
       "    <tr>\n",
       "      <th>...</th>\n",
       "      <td>...</td>\n",
       "      <td>...</td>\n",
       "      <td>...</td>\n",
       "      <td>...</td>\n",
       "      <td>...</td>\n",
       "      <td>...</td>\n",
       "      <td>...</td>\n",
       "      <td>...</td>\n",
       "    </tr>\n",
       "    <tr>\n",
       "      <th>2111</th>\n",
       "      <td>CHEMBL5203413</td>\n",
       "      <td>CC#CCOc1ccc2cc(C(c3ccc(C#N)cc3)n3cncn3)oc2c1</td>\n",
       "      <td>active</td>\n",
       "      <td>368.396</td>\n",
       "      <td>3.93578</td>\n",
       "      <td>0.0</td>\n",
       "      <td>6.0</td>\n",
       "      <td>10.045757</td>\n",
       "    </tr>\n",
       "    <tr>\n",
       "      <th>2112</th>\n",
       "      <td>CHEMBL5179009</td>\n",
       "      <td>CCC#CCOc1ccc2cc(C(c3ccc(C#N)cc3)n3cncn3)oc2c1</td>\n",
       "      <td>active</td>\n",
       "      <td>382.423</td>\n",
       "      <td>4.32588</td>\n",
       "      <td>0.0</td>\n",
       "      <td>6.0</td>\n",
       "      <td>9.142668</td>\n",
       "    </tr>\n",
       "    <tr>\n",
       "      <th>2113</th>\n",
       "      <td>CHEMBL5184829</td>\n",
       "      <td>O=C(Nc1ccc2[nH]ncc2c1)[C@]12ON=C(c3cccnc3)[C@H...</td>\n",
       "      <td>inactive</td>\n",
       "      <td>373.416</td>\n",
       "      <td>3.11580</td>\n",
       "      <td>2.0</td>\n",
       "      <td>5.0</td>\n",
       "      <td>5.000000</td>\n",
       "    </tr>\n",
       "    <tr>\n",
       "      <th>2114</th>\n",
       "      <td>CHEMBL5176279</td>\n",
       "      <td>CCOC(=O)Cc1csc(N/N=C/c2ccc3cc(OC)ccc3c2)n1</td>\n",
       "      <td>active</td>\n",
       "      <td>369.446</td>\n",
       "      <td>3.85650</td>\n",
       "      <td>1.0</td>\n",
       "      <td>7.0</td>\n",
       "      <td>7.508638</td>\n",
       "    </tr>\n",
       "    <tr>\n",
       "      <th>2115</th>\n",
       "      <td>CHEMBL5177928</td>\n",
       "      <td>COc1ccc2cc(/C=N/NC3=NC(=O)CS3)ccc2c1</td>\n",
       "      <td>active</td>\n",
       "      <td>299.355</td>\n",
       "      <td>2.40130</td>\n",
       "      <td>1.0</td>\n",
       "      <td>5.0</td>\n",
       "      <td>7.376751</td>\n",
       "    </tr>\n",
       "  </tbody>\n",
       "</table>\n",
       "<p>2116 rows × 8 columns</p>\n",
       "</div>"
      ],
      "text/plain": [
       "     molecule_chembl_id                                   canonical_smiles   \n",
       "0          CHEMBL341591          CC12CCC(O)CC1=CCC1C2CCC2(C)C(CC3CN3)CCC12  \\\n",
       "1         CHEMBL2111947  C[C@]12CC[C@H]3[C@@H](CC=C4C[C@@H](O)CC[C@@]43...   \n",
       "2          CHEMBL431859      CCn1c(C(c2ccc(F)cc2)n2ccnc2)c(C)c2cc(Br)ccc21   \n",
       "3          CHEMBL113637             CCn1cc(C(c2ccc(F)cc2)n2ccnc2)c2ccccc21   \n",
       "4          CHEMBL112021                 Clc1ccccc1Cn1cc(Cn2ccnc2)c2ccccc21   \n",
       "...                 ...                                                ...   \n",
       "2111      CHEMBL5203413       CC#CCOc1ccc2cc(C(c3ccc(C#N)cc3)n3cncn3)oc2c1   \n",
       "2112      CHEMBL5179009      CCC#CCOc1ccc2cc(C(c3ccc(C#N)cc3)n3cncn3)oc2c1   \n",
       "2113      CHEMBL5184829  O=C(Nc1ccc2[nH]ncc2c1)[C@]12ON=C(c3cccnc3)[C@H...   \n",
       "2114      CHEMBL5176279         CCOC(=O)Cc1csc(N/N=C/c2ccc3cc(OC)ccc3c2)n1   \n",
       "2115      CHEMBL5177928               COc1ccc2cc(/C=N/NC3=NC(=O)CS3)ccc2c1   \n",
       "\n",
       "             class       MW     LogP  NumHDonors  NumHAcceptors      pIC50  \n",
       "0     intermediate  329.528  4.28820         2.0            2.0   5.148742  \n",
       "1         inactive  315.501  3.89810         2.0            2.0   4.301030  \n",
       "2           active  412.306  5.70542         0.0            3.0   6.623423  \n",
       "3           active  319.383  4.63450         0.0            3.0   7.244125  \n",
       "4           active  321.811  4.58780         0.0            3.0   7.267606  \n",
       "...            ...      ...      ...         ...            ...        ...  \n",
       "2111        active  368.396  3.93578         0.0            6.0  10.045757  \n",
       "2112        active  382.423  4.32588         0.0            6.0   9.142668  \n",
       "2113      inactive  373.416  3.11580         2.0            5.0   5.000000  \n",
       "2114        active  369.446  3.85650         1.0            7.0   7.508638  \n",
       "2115        active  299.355  2.40130         1.0            5.0   7.376751  \n",
       "\n",
       "[2116 rows x 8 columns]"
      ]
     },
     "execution_count": 22,
     "metadata": {},
     "output_type": "execute_result"
    }
   ],
   "source": [
    "df_final = pIC50(df_norm)\n",
    "df_final"
   ]
  },
  {
   "cell_type": "code",
   "execution_count": 23,
   "metadata": {
    "colab": {
     "base_uri": "https://localhost:8080/",
     "height": 170
    },
    "colab_type": "code",
    "id": "BoqY53udSTYC",
    "outputId": "13f3b5ff-acf5-4136-b8a3-f494066d4824"
   },
   "outputs": [
    {
     "data": {
      "text/plain": [
       "count    2116.000000\n",
       "mean        6.061164\n",
       "std         1.312566\n",
       "min         0.000000\n",
       "25%         5.068928\n",
       "50%         5.920819\n",
       "75%         6.907522\n",
       "max        10.823909\n",
       "Name: pIC50, dtype: float64"
      ]
     },
     "execution_count": 23,
     "metadata": {},
     "output_type": "execute_result"
    }
   ],
   "source": [
    "df_final.pIC50.describe()"
   ]
  },
  {
   "cell_type": "markdown",
   "metadata": {
    "colab_type": "text",
    "id": "TTB-xkOcgwRX"
   },
   "source": [
    "Let's write this to CSV file."
   ]
  },
  {
   "cell_type": "code",
   "execution_count": 24,
   "metadata": {
    "colab": {},
    "colab_type": "code",
    "id": "sbZfHUSOgykw"
   },
   "outputs": [],
   "source": [
    "df_final.to_csv('aromatase_04_bioactivity_data_3class_pIC50.csv')"
   ]
  },
  {
   "cell_type": "markdown",
   "metadata": {
    "colab_type": "text",
    "id": "05vHBWvqaQtb"
   },
   "source": [
    "### **Removing the 'intermediate' bioactivity class**\n",
    "Here, we will be removing the ``intermediate`` class from our data set."
   ]
  },
  {
   "cell_type": "code",
   "execution_count": 25,
   "metadata": {
    "colab": {
     "base_uri": "https://localhost:8080/",
     "height": 419
    },
    "colab_type": "code",
    "id": "HmrndhDW3c7Z",
    "outputId": "dbc2255b-ed9c-460c-c12c-1795a735c9e7"
   },
   "outputs": [
    {
     "data": {
      "text/html": [
       "<div>\n",
       "<style scoped>\n",
       "    .dataframe tbody tr th:only-of-type {\n",
       "        vertical-align: middle;\n",
       "    }\n",
       "\n",
       "    .dataframe tbody tr th {\n",
       "        vertical-align: top;\n",
       "    }\n",
       "\n",
       "    .dataframe thead th {\n",
       "        text-align: right;\n",
       "    }\n",
       "</style>\n",
       "<table border=\"1\" class=\"dataframe\">\n",
       "  <thead>\n",
       "    <tr style=\"text-align: right;\">\n",
       "      <th></th>\n",
       "      <th>molecule_chembl_id</th>\n",
       "      <th>canonical_smiles</th>\n",
       "      <th>class</th>\n",
       "      <th>MW</th>\n",
       "      <th>LogP</th>\n",
       "      <th>NumHDonors</th>\n",
       "      <th>NumHAcceptors</th>\n",
       "      <th>pIC50</th>\n",
       "    </tr>\n",
       "  </thead>\n",
       "  <tbody>\n",
       "    <tr>\n",
       "      <th>1</th>\n",
       "      <td>CHEMBL2111947</td>\n",
       "      <td>C[C@]12CC[C@H]3[C@@H](CC=C4C[C@@H](O)CC[C@@]43...</td>\n",
       "      <td>inactive</td>\n",
       "      <td>315.501</td>\n",
       "      <td>3.89810</td>\n",
       "      <td>2.0</td>\n",
       "      <td>2.0</td>\n",
       "      <td>4.301030</td>\n",
       "    </tr>\n",
       "    <tr>\n",
       "      <th>2</th>\n",
       "      <td>CHEMBL431859</td>\n",
       "      <td>CCn1c(C(c2ccc(F)cc2)n2ccnc2)c(C)c2cc(Br)ccc21</td>\n",
       "      <td>active</td>\n",
       "      <td>412.306</td>\n",
       "      <td>5.70542</td>\n",
       "      <td>0.0</td>\n",
       "      <td>3.0</td>\n",
       "      <td>6.623423</td>\n",
       "    </tr>\n",
       "    <tr>\n",
       "      <th>3</th>\n",
       "      <td>CHEMBL113637</td>\n",
       "      <td>CCn1cc(C(c2ccc(F)cc2)n2ccnc2)c2ccccc21</td>\n",
       "      <td>active</td>\n",
       "      <td>319.383</td>\n",
       "      <td>4.63450</td>\n",
       "      <td>0.0</td>\n",
       "      <td>3.0</td>\n",
       "      <td>7.244125</td>\n",
       "    </tr>\n",
       "    <tr>\n",
       "      <th>4</th>\n",
       "      <td>CHEMBL112021</td>\n",
       "      <td>Clc1ccccc1Cn1cc(Cn2ccnc2)c2ccccc21</td>\n",
       "      <td>active</td>\n",
       "      <td>321.811</td>\n",
       "      <td>4.58780</td>\n",
       "      <td>0.0</td>\n",
       "      <td>3.0</td>\n",
       "      <td>7.267606</td>\n",
       "    </tr>\n",
       "    <tr>\n",
       "      <th>6</th>\n",
       "      <td>CHEMBL41761</td>\n",
       "      <td>CCn1ccc2cc(C(c3ccc(F)cc3)n3ccnc3)ccc21</td>\n",
       "      <td>active</td>\n",
       "      <td>319.383</td>\n",
       "      <td>4.63450</td>\n",
       "      <td>0.0</td>\n",
       "      <td>3.0</td>\n",
       "      <td>7.387216</td>\n",
       "    </tr>\n",
       "    <tr>\n",
       "      <th>...</th>\n",
       "      <td>...</td>\n",
       "      <td>...</td>\n",
       "      <td>...</td>\n",
       "      <td>...</td>\n",
       "      <td>...</td>\n",
       "      <td>...</td>\n",
       "      <td>...</td>\n",
       "      <td>...</td>\n",
       "    </tr>\n",
       "    <tr>\n",
       "      <th>2111</th>\n",
       "      <td>CHEMBL5203413</td>\n",
       "      <td>CC#CCOc1ccc2cc(C(c3ccc(C#N)cc3)n3cncn3)oc2c1</td>\n",
       "      <td>active</td>\n",
       "      <td>368.396</td>\n",
       "      <td>3.93578</td>\n",
       "      <td>0.0</td>\n",
       "      <td>6.0</td>\n",
       "      <td>10.045757</td>\n",
       "    </tr>\n",
       "    <tr>\n",
       "      <th>2112</th>\n",
       "      <td>CHEMBL5179009</td>\n",
       "      <td>CCC#CCOc1ccc2cc(C(c3ccc(C#N)cc3)n3cncn3)oc2c1</td>\n",
       "      <td>active</td>\n",
       "      <td>382.423</td>\n",
       "      <td>4.32588</td>\n",
       "      <td>0.0</td>\n",
       "      <td>6.0</td>\n",
       "      <td>9.142668</td>\n",
       "    </tr>\n",
       "    <tr>\n",
       "      <th>2113</th>\n",
       "      <td>CHEMBL5184829</td>\n",
       "      <td>O=C(Nc1ccc2[nH]ncc2c1)[C@]12ON=C(c3cccnc3)[C@H...</td>\n",
       "      <td>inactive</td>\n",
       "      <td>373.416</td>\n",
       "      <td>3.11580</td>\n",
       "      <td>2.0</td>\n",
       "      <td>5.0</td>\n",
       "      <td>5.000000</td>\n",
       "    </tr>\n",
       "    <tr>\n",
       "      <th>2114</th>\n",
       "      <td>CHEMBL5176279</td>\n",
       "      <td>CCOC(=O)Cc1csc(N/N=C/c2ccc3cc(OC)ccc3c2)n1</td>\n",
       "      <td>active</td>\n",
       "      <td>369.446</td>\n",
       "      <td>3.85650</td>\n",
       "      <td>1.0</td>\n",
       "      <td>7.0</td>\n",
       "      <td>7.508638</td>\n",
       "    </tr>\n",
       "    <tr>\n",
       "      <th>2115</th>\n",
       "      <td>CHEMBL5177928</td>\n",
       "      <td>COc1ccc2cc(/C=N/NC3=NC(=O)CS3)ccc2c1</td>\n",
       "      <td>active</td>\n",
       "      <td>299.355</td>\n",
       "      <td>2.40130</td>\n",
       "      <td>1.0</td>\n",
       "      <td>5.0</td>\n",
       "      <td>7.376751</td>\n",
       "    </tr>\n",
       "  </tbody>\n",
       "</table>\n",
       "<p>1511 rows × 8 columns</p>\n",
       "</div>"
      ],
      "text/plain": [
       "     molecule_chembl_id                                   canonical_smiles   \n",
       "1         CHEMBL2111947  C[C@]12CC[C@H]3[C@@H](CC=C4C[C@@H](O)CC[C@@]43...  \\\n",
       "2          CHEMBL431859      CCn1c(C(c2ccc(F)cc2)n2ccnc2)c(C)c2cc(Br)ccc21   \n",
       "3          CHEMBL113637             CCn1cc(C(c2ccc(F)cc2)n2ccnc2)c2ccccc21   \n",
       "4          CHEMBL112021                 Clc1ccccc1Cn1cc(Cn2ccnc2)c2ccccc21   \n",
       "6           CHEMBL41761             CCn1ccc2cc(C(c3ccc(F)cc3)n3ccnc3)ccc21   \n",
       "...                 ...                                                ...   \n",
       "2111      CHEMBL5203413       CC#CCOc1ccc2cc(C(c3ccc(C#N)cc3)n3cncn3)oc2c1   \n",
       "2112      CHEMBL5179009      CCC#CCOc1ccc2cc(C(c3ccc(C#N)cc3)n3cncn3)oc2c1   \n",
       "2113      CHEMBL5184829  O=C(Nc1ccc2[nH]ncc2c1)[C@]12ON=C(c3cccnc3)[C@H...   \n",
       "2114      CHEMBL5176279         CCOC(=O)Cc1csc(N/N=C/c2ccc3cc(OC)ccc3c2)n1   \n",
       "2115      CHEMBL5177928               COc1ccc2cc(/C=N/NC3=NC(=O)CS3)ccc2c1   \n",
       "\n",
       "         class       MW     LogP  NumHDonors  NumHAcceptors      pIC50  \n",
       "1     inactive  315.501  3.89810         2.0            2.0   4.301030  \n",
       "2       active  412.306  5.70542         0.0            3.0   6.623423  \n",
       "3       active  319.383  4.63450         0.0            3.0   7.244125  \n",
       "4       active  321.811  4.58780         0.0            3.0   7.267606  \n",
       "6       active  319.383  4.63450         0.0            3.0   7.387216  \n",
       "...        ...      ...      ...         ...            ...        ...  \n",
       "2111    active  368.396  3.93578         0.0            6.0  10.045757  \n",
       "2112    active  382.423  4.32588         0.0            6.0   9.142668  \n",
       "2113  inactive  373.416  3.11580         2.0            5.0   5.000000  \n",
       "2114    active  369.446  3.85650         1.0            7.0   7.508638  \n",
       "2115    active  299.355  2.40130         1.0            5.0   7.376751  \n",
       "\n",
       "[1511 rows x 8 columns]"
      ]
     },
     "execution_count": 25,
     "metadata": {},
     "output_type": "execute_result"
    }
   ],
   "source": [
    "df_2class = df_final[df_final['class'] != 'intermediate']\n",
    "df_2class"
   ]
  },
  {
   "cell_type": "markdown",
   "metadata": {
    "colab_type": "text",
    "id": "GJGRNXXigd1o"
   },
   "source": [
    "Let's write this to CSV file."
   ]
  },
  {
   "cell_type": "code",
   "execution_count": 26,
   "metadata": {
    "colab": {},
    "colab_type": "code",
    "id": "XIiYdeL5ghCo"
   },
   "outputs": [],
   "source": [
    "df_2class.to_csv('aromatase_05_bioactivity_data_2class_pIC50.csv')"
   ]
  },
  {
   "cell_type": "markdown",
   "metadata": {
    "colab_type": "text",
    "id": "p9vA4-hQQ8sA"
   },
   "source": [
    "---"
   ]
  },
  {
   "cell_type": "markdown",
   "metadata": {
    "colab_type": "text",
    "id": "x0vqbQWfxsZu"
   },
   "source": [
    "## **Exploratory Data Analysis (Chemical Space Analysis) via Lipinski descriptors**"
   ]
  },
  {
   "cell_type": "markdown",
   "metadata": {
    "colab_type": "text",
    "id": "18heJagiyHoF"
   },
   "source": [
    "### **Import library**"
   ]
  },
  {
   "cell_type": "code",
   "execution_count": 27,
   "metadata": {
    "colab": {
     "base_uri": "https://localhost:8080/",
     "height": 51
    },
    "colab_type": "code",
    "id": "0Egq_rNsxtIj",
    "outputId": "33657ad8-3fcc-41cd-83ab-6f4f8c0a9e84"
   },
   "outputs": [],
   "source": [
    "import seaborn as sns\n",
    "sns.set(style='ticks')\n",
    "import matplotlib.pyplot as plt"
   ]
  },
  {
   "cell_type": "markdown",
   "metadata": {
    "colab_type": "text",
    "id": "NiarmFbOdG3H"
   },
   "source": [
    "### **Frequency plot of the 2 bioactivity classes**"
   ]
  },
  {
   "cell_type": "code",
   "execution_count": 28,
   "metadata": {
    "colab": {
     "base_uri": "https://localhost:8080/",
     "height": 367
    },
    "colab_type": "code",
    "id": "w2Ia0iycdMO2",
    "outputId": "fa37bcfd-af06-4e4b-c754-b6fb2b1b4f97"
   },
   "outputs": [
    {
     "data": {
      "image/png": "[encoded data removed]",
      "text/plain": [
       "<Figure size 550x550 with 1 Axes>"
      ]
     },
     "metadata": {},
     "output_type": "display_data"
    }
   ],
   "source": [
    "plt.figure(figsize=(5.5, 5.5))\n",
    "\n",
    "sns.countplot(x='class', data=df_2class, edgecolor='black')\n",
    "\n",
    "plt.xlabel('Bioactivity class', fontsize=14, fontweight='bold')\n",
    "plt.ylabel('Frequency', fontsize=14, fontweight='bold')\n",
    "\n",
    "plt.savefig('plot_bioactivity_class.pdf')"
   ]
  },
  {
   "cell_type": "markdown",
   "metadata": {
    "colab_type": "text",
    "id": "wB68NKVG0j68"
   },
   "source": [
    "### **Scatter plot of MW versus LogP**\n",
    "\n",
    "It can be seen that the 2 bioactivity classes are spanning similar chemical spaces as evident by the scatter plot of MW vs LogP."
   ]
  },
  {
   "cell_type": "code",
   "execution_count": 29,
   "metadata": {
    "colab": {
     "base_uri": "https://localhost:8080/",
     "height": 367
    },
    "colab_type": "code",
    "id": "F79BNwjF0nub",
    "outputId": "a80f9843-848a-4eb0-ff78-e9473d5d2d4b"
   },
   "outputs": [
    {
     "data": {
      "image/png": "[encoded data removed]",
      "text/plain": [
       "<Figure size 550x550 with 1 Axes>"
      ]
     },
     "metadata": {},
     "output_type": "display_data"
    }
   ],
   "source": [
    "plt.figure(figsize=(5.5, 5.5))\n",
    "\n",
    "sns.scatterplot(x='MW', y='LogP', data=df_2class, hue='class', size='pIC50', edgecolor='black', alpha=0.7)\n",
    "\n",
    "plt.xlabel('MW', fontsize=14, fontweight='bold')\n",
    "plt.ylabel('LogP', fontsize=14, fontweight='bold')\n",
    "plt.legend(bbox_to_anchor=(1.05, 1), loc=2, borderaxespad=0)\n",
    "plt.savefig('plot_MW_vs_LogP.pdf')"
   ]
  },
  {
   "cell_type": "markdown",
   "metadata": {
    "colab_type": "text",
    "id": "oLAfyRwHyJfX"
   },
   "source": [
    "### **Box plots**"
   ]
  },
  {
   "cell_type": "markdown",
   "metadata": {
    "colab_type": "text",
    "id": "1n1uIAivyOkY"
   },
   "source": [
    "#### **pIC50 value**"
   ]
  },
  {
   "cell_type": "code",
   "execution_count": 30,
   "metadata": {
    "colab": {
     "base_uri": "https://localhost:8080/",
     "height": 367
    },
    "colab_type": "code",
    "id": "EpPviw0hxue6",
    "outputId": "a6386fee-ae04-4bf0-93cb-c95bcf801432"
   },
   "outputs": [
    {
     "data": {
      "image/png": "[encoded data removed]",
      "text/plain": [
       "<Figure size 550x550 with 1 Axes>"
      ]
     },
     "metadata": {},
     "output_type": "display_data"
    }
   ],
   "source": [
    "plt.figure(figsize=(5.5, 5.5))\n",
    "\n",
    "sns.boxplot(x = 'class', y = 'pIC50', data = df_2class)\n",
    "\n",
    "plt.xlabel('Bioactivity class', fontsize=14, fontweight='bold')\n",
    "plt.ylabel('pIC50 value', fontsize=14, fontweight='bold')\n",
    "\n",
    "plt.savefig('plot_ic50.pdf')"
   ]
  },
  {
   "cell_type": "markdown",
   "metadata": {
    "colab_type": "text",
    "id": "PsOqKyysCZCv"
   },
   "source": [
    "**Statistical analysis | Mann-Whitney U Test**"
   ]
  },
  {
   "cell_type": "code",
   "execution_count": 31,
   "metadata": {
    "colab": {},
    "colab_type": "code",
    "id": "LPdV1vDnWBsh"
   },
   "outputs": [],
   "source": [
    "def mannwhitney(descriptor, verbose=False):\n",
    "  # https://machinelearningmastery.com/nonparametric-statistical-significance-tests-in-python/\n",
    "  from numpy.random import seed\n",
    "  from numpy.random import randn\n",
    "  from scipy.stats import mannwhitneyu\n",
    "\n",
    "# seed the random number generator\n",
    "  seed(1)\n",
    "\n",
    "# actives and inactives\n",
    "  selection = [descriptor, 'class']\n",
    "  df = df_2class[selection]\n",
    "  active = df[df['class'] == 'active']\n",
    "  active = active[descriptor]\n",
    "\n",
    "  selection = [descriptor, 'class']\n",
    "  df = df_2class[selection]\n",
    "  inactive = df[df['class'] == 'inactive']\n",
    "  inactive = inactive[descriptor]\n",
    "\n",
    "# compare samples\n",
    "  stat, p = mannwhitneyu(active, inactive)\n",
    "  #print('Statistics=%.3f, p=%.3f' % (stat, p))\n",
    "\n",
    "# interpret\n",
    "  alpha = 0.05\n",
    "  if p > alpha:\n",
    "    interpretation = 'Same distribution (fail to reject H0)'\n",
    "  else:\n",
    "    interpretation = 'Different distribution (reject H0)'\n",
    "  \n",
    "  results = pd.DataFrame({'Descriptor':descriptor,\n",
    "                          'Statistics':stat,\n",
    "                          'p':p,\n",
    "                          'alpha':alpha,\n",
    "                          'Interpretation':interpretation}, index=[0])\n",
    "  filename = 'mannwhitneyu_' + descriptor + '.csv'\n",
    "  results.to_csv(filename)\n",
    "\n",
    "  return results"
   ]
  },
  {
   "cell_type": "code",
   "execution_count": 32,
   "metadata": {
    "colab": {
     "base_uri": "https://localhost:8080/",
     "height": 80
    },
    "colab_type": "code",
    "id": "HZmUgOmdYVm5",
    "outputId": "3a9ba656-596c-434a-e52f-5696325cd4e7"
   },
   "outputs": [
    {
     "data": {
      "text/html": [
       "<div>\n",
       "<style scoped>\n",
       "    .dataframe tbody tr th:only-of-type {\n",
       "        vertical-align: middle;\n",
       "    }\n",
       "\n",
       "    .dataframe tbody tr th {\n",
       "        vertical-align: top;\n",
       "    }\n",
       "\n",
       "    .dataframe thead th {\n",
       "        text-align: right;\n",
       "    }\n",
       "</style>\n",
       "<table border=\"1\" class=\"dataframe\">\n",
       "  <thead>\n",
       "    <tr style=\"text-align: right;\">\n",
       "      <th></th>\n",
       "      <th>Descriptor</th>\n",
       "      <th>Statistics</th>\n",
       "      <th>p</th>\n",
       "      <th>alpha</th>\n",
       "      <th>Interpretation</th>\n",
       "    </tr>\n",
       "  </thead>\n",
       "  <tbody>\n",
       "    <tr>\n",
       "      <th>0</th>\n",
       "      <td>pIC50</td>\n",
       "      <td>500856.0</td>\n",
       "      <td>1.632980e-217</td>\n",
       "      <td>0.05</td>\n",
       "      <td>Different distribution (reject H0)</td>\n",
       "    </tr>\n",
       "  </tbody>\n",
       "</table>\n",
       "</div>"
      ],
      "text/plain": [
       "  Descriptor  Statistics              p  alpha   \n",
       "0      pIC50    500856.0  1.632980e-217   0.05  \\\n",
       "\n",
       "                       Interpretation  \n",
       "0  Different distribution (reject H0)  "
      ]
     },
     "execution_count": 32,
     "metadata": {},
     "output_type": "execute_result"
    }
   ],
   "source": [
    "mannwhitney('pIC50')"
   ]
  },
  {
   "cell_type": "markdown",
   "metadata": {
    "colab_type": "text",
    "id": "o2UlCwPmyTBq"
   },
   "source": [
    "#### **MW**"
   ]
  },
  {
   "cell_type": "code",
   "execution_count": 33,
   "metadata": {
    "colab": {
     "base_uri": "https://localhost:8080/",
     "height": 370
    },
    "colab_type": "code",
    "id": "ZNlEEsDEx3m6",
    "outputId": "819f291c-d893-4ff6-f4ca-28b46351e999"
   },
   "outputs": [
    {
     "data": {
      "image/png": "[encoded data removed]",
      "text/plain": [
       "<Figure size 550x550 with 1 Axes>"
      ]
     },
     "metadata": {},
     "output_type": "display_data"
    }
   ],
   "source": [
    "plt.figure(figsize=(5.5, 5.5))\n",
    "\n",
    "sns.boxplot(x = 'class', y = 'MW', data = df_2class)\n",
    "\n",
    "plt.xlabel('Bioactivity class', fontsize=14, fontweight='bold')\n",
    "plt.ylabel('MW', fontsize=14, fontweight='bold')\n",
    "\n",
    "plt.savefig('plot_MW.pdf')"
   ]
  },
  {
   "cell_type": "code",
   "execution_count": 34,
   "metadata": {
    "colab": {
     "base_uri": "https://localhost:8080/",
     "height": 80
    },
    "colab_type": "code",
    "id": "wRl2FvgHYqaG",
    "outputId": "01f76db8-fdaf-40af-9161-888f5065b07b"
   },
   "outputs": [
    {
     "data": {
      "text/html": [
       "<div>\n",
       "<style scoped>\n",
       "    .dataframe tbody tr th:only-of-type {\n",
       "        vertical-align: middle;\n",
       "    }\n",
       "\n",
       "    .dataframe tbody tr th {\n",
       "        vertical-align: top;\n",
       "    }\n",
       "\n",
       "    .dataframe thead th {\n",
       "        text-align: right;\n",
       "    }\n",
       "</style>\n",
       "<table border=\"1\" class=\"dataframe\">\n",
       "  <thead>\n",
       "    <tr style=\"text-align: right;\">\n",
       "      <th></th>\n",
       "      <th>Descriptor</th>\n",
       "      <th>Statistics</th>\n",
       "      <th>p</th>\n",
       "      <th>alpha</th>\n",
       "      <th>Interpretation</th>\n",
       "    </tr>\n",
       "  </thead>\n",
       "  <tbody>\n",
       "    <tr>\n",
       "      <th>0</th>\n",
       "      <td>MW</td>\n",
       "      <td>284791.0</td>\n",
       "      <td>0.000018</td>\n",
       "      <td>0.05</td>\n",
       "      <td>Different distribution (reject H0)</td>\n",
       "    </tr>\n",
       "  </tbody>\n",
       "</table>\n",
       "</div>"
      ],
      "text/plain": [
       "  Descriptor  Statistics         p  alpha                      Interpretation\n",
       "0         MW    284791.0  0.000018   0.05  Different distribution (reject H0)"
      ]
     },
     "execution_count": 34,
     "metadata": {},
     "output_type": "execute_result"
    }
   ],
   "source": [
    "mannwhitney('MW')"
   ]
  },
  {
   "cell_type": "markdown",
   "metadata": {
    "colab_type": "text",
    "id": "z5hyBhGqyc6J"
   },
   "source": [
    "#### **LogP**"
   ]
  },
  {
   "cell_type": "code",
   "execution_count": 35,
   "metadata": {
    "colab": {
     "base_uri": "https://localhost:8080/",
     "height": 367
    },
    "colab_type": "code",
    "id": "liEtkpI4yX9t",
    "outputId": "63ed7b14-b112-44d5-8f0d-8fe017ec0d43"
   },
   "outputs": [
    {
     "data": {
      "image/png": "[encoded data removed]",
      "text/plain": [
       "<Figure size 550x550 with 1 Axes>"
      ]
     },
     "metadata": {},
     "output_type": "display_data"
    }
   ],
   "source": [
    "plt.figure(figsize=(5.5, 5.5))\n",
    "\n",
    "sns.boxplot(x = 'class', y = 'LogP', data = df_2class)\n",
    "\n",
    "plt.xlabel('Bioactivity class', fontsize=14, fontweight='bold')\n",
    "plt.ylabel('LogP', fontsize=14, fontweight='bold')\n",
    "\n",
    "plt.savefig('plot_LogP.pdf')"
   ]
  },
  {
   "cell_type": "markdown",
   "metadata": {
    "colab_type": "text",
    "id": "2KgV5v_oFLXh"
   },
   "source": [
    "**Statistical analysis | Mann-Whitney U Test**"
   ]
  },
  {
   "cell_type": "code",
   "execution_count": 36,
   "metadata": {
    "colab": {
     "base_uri": "https://localhost:8080/",
     "height": 80
    },
    "colab_type": "code",
    "id": "B61UsGMIFLuE",
    "outputId": "3fd097e7-7a4a-4c6e-bc0c-af010caac7b2"
   },
   "outputs": [
    {
     "data": {
      "text/html": [
       "<div>\n",
       "<style scoped>\n",
       "    .dataframe tbody tr th:only-of-type {\n",
       "        vertical-align: middle;\n",
       "    }\n",
       "\n",
       "    .dataframe tbody tr th {\n",
       "        vertical-align: top;\n",
       "    }\n",
       "\n",
       "    .dataframe thead th {\n",
       "        text-align: right;\n",
       "    }\n",
       "</style>\n",
       "<table border=\"1\" class=\"dataframe\">\n",
       "  <thead>\n",
       "    <tr style=\"text-align: right;\">\n",
       "      <th></th>\n",
       "      <th>Descriptor</th>\n",
       "      <th>Statistics</th>\n",
       "      <th>p</th>\n",
       "      <th>alpha</th>\n",
       "      <th>Interpretation</th>\n",
       "    </tr>\n",
       "  </thead>\n",
       "  <tbody>\n",
       "    <tr>\n",
       "      <th>0</th>\n",
       "      <td>LogP</td>\n",
       "      <td>252241.5</td>\n",
       "      <td>0.843704</td>\n",
       "      <td>0.05</td>\n",
       "      <td>Same distribution (fail to reject H0)</td>\n",
       "    </tr>\n",
       "  </tbody>\n",
       "</table>\n",
       "</div>"
      ],
      "text/plain": [
       "  Descriptor  Statistics         p  alpha   \n",
       "0       LogP    252241.5  0.843704   0.05  \\\n",
       "\n",
       "                          Interpretation  \n",
       "0  Same distribution (fail to reject H0)  "
      ]
     },
     "execution_count": 36,
     "metadata": {},
     "output_type": "execute_result"
    }
   ],
   "source": [
    "mannwhitney('LogP')"
   ]
  },
  {
   "cell_type": "markdown",
   "metadata": {
    "colab_type": "text",
    "id": "4db7LZLRym2k"
   },
   "source": [
    "#### **NumHDonors**"
   ]
  },
  {
   "cell_type": "code",
   "execution_count": 37,
   "metadata": {
    "colab": {
     "base_uri": "https://localhost:8080/",
     "height": 367
    },
    "colab_type": "code",
    "id": "iru1JPM1yg5A",
    "outputId": "838b8622-b34a-4f93-bec1-9df19fc9f571"
   },
   "outputs": [
    {
     "data": {
      "image/png": "[encoded data removed]",
      "text/plain": [
       "<Figure size 550x550 with 1 Axes>"
      ]
     },
     "metadata": {},
     "output_type": "display_data"
    }
   ],
   "source": [
    "plt.figure(figsize=(5.5, 5.5))\n",
    "\n",
    "sns.boxplot(x = 'class', y = 'NumHDonors', data = df_2class)\n",
    "\n",
    "plt.xlabel('Bioactivity class', fontsize=14, fontweight='bold')\n",
    "plt.ylabel('NumHDonors', fontsize=14, fontweight='bold')\n",
    "\n",
    "plt.savefig('plot_NumHDonors.pdf')"
   ]
  },
  {
   "cell_type": "markdown",
   "metadata": {
    "colab_type": "text",
    "id": "vM5vZWanFe3c"
   },
   "source": [
    "**Statistical analysis | Mann-Whitney U Test**"
   ]
  },
  {
   "cell_type": "code",
   "execution_count": 38,
   "metadata": {
    "colab": {
     "base_uri": "https://localhost:8080/",
     "height": 80
    },
    "colab_type": "code",
    "id": "mS-rOqq7Fd1E",
    "outputId": "d6e88523-ae95-4298-8550-f840fd8b5a36"
   },
   "outputs": [
    {
     "data": {
      "text/html": [
       "<div>\n",
       "<style scoped>\n",
       "    .dataframe tbody tr th:only-of-type {\n",
       "        vertical-align: middle;\n",
       "    }\n",
       "\n",
       "    .dataframe tbody tr th {\n",
       "        vertical-align: top;\n",
       "    }\n",
       "\n",
       "    .dataframe thead th {\n",
       "        text-align: right;\n",
       "    }\n",
       "</style>\n",
       "<table border=\"1\" class=\"dataframe\">\n",
       "  <thead>\n",
       "    <tr style=\"text-align: right;\">\n",
       "      <th></th>\n",
       "      <th>Descriptor</th>\n",
       "      <th>Statistics</th>\n",
       "      <th>p</th>\n",
       "      <th>alpha</th>\n",
       "      <th>Interpretation</th>\n",
       "    </tr>\n",
       "  </thead>\n",
       "  <tbody>\n",
       "    <tr>\n",
       "      <th>0</th>\n",
       "      <td>NumHDonors</td>\n",
       "      <td>234631.0</td>\n",
       "      <td>0.023067</td>\n",
       "      <td>0.05</td>\n",
       "      <td>Different distribution (reject H0)</td>\n",
       "    </tr>\n",
       "  </tbody>\n",
       "</table>\n",
       "</div>"
      ],
      "text/plain": [
       "   Descriptor  Statistics         p  alpha                      Interpretation\n",
       "0  NumHDonors    234631.0  0.023067   0.05  Different distribution (reject H0)"
      ]
     },
     "execution_count": 38,
     "metadata": {},
     "output_type": "execute_result"
    }
   ],
   "source": [
    "mannwhitney('NumHDonors')"
   ]
  },
  {
   "cell_type": "markdown",
   "metadata": {
    "colab_type": "text",
    "id": "yOYQ3QiSyu7-"
   },
   "source": [
    "#### **NumHAcceptors**"
   ]
  },
  {
   "cell_type": "code",
   "execution_count": 39,
   "metadata": {
    "colab": {
     "base_uri": "https://localhost:8080/",
     "height": 367
    },
    "colab_type": "code",
    "id": "yCw6tgNCyxHf",
    "outputId": "3de01d96-1e31-4f95-8084-907f15901106"
   },
   "outputs": [
    {
     "data": {
      "image/png": "[encoded data removed]",
      "text/plain": [
       "<Figure size 550x550 with 1 Axes>"
      ]
     },
     "metadata": {},
     "output_type": "display_data"
    }
   ],
   "source": [
    "plt.figure(figsize=(5.5, 5.5))\n",
    "\n",
    "sns.boxplot(x = 'class', y = 'NumHAcceptors', data = df_2class)\n",
    "\n",
    "plt.xlabel('Bioactivity class', fontsize=14, fontweight='bold')\n",
    "plt.ylabel('NumHAcceptors', fontsize=14, fontweight='bold')\n",
    "\n",
    "plt.savefig('plot_NumHAcceptors.pdf')"
   ]
  },
  {
   "cell_type": "code",
   "execution_count": 40,
   "metadata": {
    "colab": {
     "base_uri": "https://localhost:8080/",
     "height": 80
    },
    "colab_type": "code",
    "id": "NEQoDZctFtGG",
    "outputId": "417d0d17-81f6-438f-dae4-70083b319b85"
   },
   "outputs": [
    {
     "data": {
      "text/html": [
       "<div>\n",
       "<style scoped>\n",
       "    .dataframe tbody tr th:only-of-type {\n",
       "        vertical-align: middle;\n",
       "    }\n",
       "\n",
       "    .dataframe tbody tr th {\n",
       "        vertical-align: top;\n",
       "    }\n",
       "\n",
       "    .dataframe thead th {\n",
       "        text-align: right;\n",
       "    }\n",
       "</style>\n",
       "<table border=\"1\" class=\"dataframe\">\n",
       "  <thead>\n",
       "    <tr style=\"text-align: right;\">\n",
       "      <th></th>\n",
       "      <th>Descriptor</th>\n",
       "      <th>Statistics</th>\n",
       "      <th>p</th>\n",
       "      <th>alpha</th>\n",
       "      <th>Interpretation</th>\n",
       "    </tr>\n",
       "  </thead>\n",
       "  <tbody>\n",
       "    <tr>\n",
       "      <th>0</th>\n",
       "      <td>NumHAcceptors</td>\n",
       "      <td>270837.0</td>\n",
       "      <td>0.009792</td>\n",
       "      <td>0.05</td>\n",
       "      <td>Different distribution (reject H0)</td>\n",
       "    </tr>\n",
       "  </tbody>\n",
       "</table>\n",
       "</div>"
      ],
      "text/plain": [
       "      Descriptor  Statistics         p  alpha   \n",
       "0  NumHAcceptors    270837.0  0.009792   0.05  \\\n",
       "\n",
       "                       Interpretation  \n",
       "0  Different distribution (reject H0)  "
      ]
     },
     "execution_count": 40,
     "metadata": {},
     "output_type": "execute_result"
    }
   ],
   "source": [
    "mannwhitney('NumHAcceptors')"
   ]
  },
  {
   "cell_type": "markdown",
   "metadata": {
    "colab_type": "text",
    "id": "p4QjdHVjKYum"
   },
   "source": [
    "#### **Interpretation of Statistical Results**"
   ]
  },
  {
   "cell_type": "markdown",
   "metadata": {
    "colab_type": "text",
    "id": "mSoOBIqfLbDs"
   },
   "source": [
    "##### **Box Plots**\n",
    "\n",
    "###### **pIC50 values**\n",
    "\n",
    "Taking a look at pIC50 values, the **actives** and **inactives** displayed ***statistically significant difference***, which is to be expected since threshold values (``IC50 < 1,000 nM = Actives while IC50 > 10,000 nM = Inactives``, corresponding to ``pIC50 > 6 = Actives and pIC50 < 5 = Inactives``) were used to define actives and inactives.\n",
    "\n",
    "###### **Lipinski's descriptors**\n",
    "\n",
    "3 of the 4 Lipinski's descriptors exhibited ***statistically significant difference*** between the **actives** and **inactives** except LogP."
   ]
  },
  {
   "cell_type": "markdown",
   "metadata": {
    "colab_type": "text",
    "id": "U-rK8l0wWnKK"
   },
   "source": [
    "## **Zip files**"
   ]
  },
  {
   "cell_type": "code",
   "execution_count": 83,
   "metadata": {
    "colab": {
     "base_uri": "https://localhost:8080/",
     "height": 272
    },
    "colab_type": "code",
    "id": "GW1ZSsfJWqbM",
    "outputId": "cee2f037-c743-4059-9822-c87eba3f0c51"
   },
   "outputs": [
    {
     "name": "stdout",
     "output_type": "stream",
     "text": [
      "  adding: aromatase_03_bioactivity_data_curated.csv (deflated 81%)\n",
      "  adding: mannwhitneyu_NumHAcceptors.csv (deflated 11%)\n",
      "  adding: AMOD 5610 - Team Formation.pdf (deflated 5%)\n",
      "  adding: mannwhitneyu_NumHDonors.csv (deflated 10%)\n",
      "  adding: aromatase_02_bioactivity_data_preprocessed.csv (deflated 79%)\n",
      "  adding: mannwhitneyu_MW.csv (deflated 9%)\n",
      "  adding: aromatase_01_bioactivity_data_raw.csv (deflated 90%)\n",
      "  adding: plot_bioactivity_class.pdf (deflated 38%)\n",
      "  adding: plot_LogP.pdf (deflated 38%)\n",
      "  adding: plot_MW.pdf (deflated 37%)\n",
      "  adding: plot_NumHDonors.pdf (deflated 38%)\n",
      "  adding: aromatase_04_bioactivity_data_3class_pIC50.csv (deflated 76%)\n",
      "  adding: plot_NumHAcceptors.pdf (deflated 38%)\n",
      "  adding: plot_ic50.pdf (deflated 37%)\n",
      "  adding: mannwhitneyu_pIC50.csv (deflated 10%)\n",
      "  adding: plot_MW_vs_LogP.pdf (deflated 3%)\n",
      "  adding: mannwhitneyu_LogP.csv (deflated 7%)\n",
      "  adding: aromatase_05_bioactivity_data_2class_pIC50.csv (deflated 76%)\n"
     ]
    }
   ],
   "source": [
    "! zip -r results.zip . -i *.csv *.pdf"
   ]
  },
  {
   "cell_type": "code",
   "execution_count": 0,
   "metadata": {
    "colab": {},
    "colab_type": "code",
    "id": "LMWOG2UIXEg-"
   },
   "outputs": [],
   "source": []
  }
 ],
 "metadata": {
  "colab": {
   "collapsed_sections": [],
   "name": "CDD-ML-Part-2-Exploratory-Data-Analysis-Acetylcholinesterase.ipynb",
   "provenance": []
  },
  "kernelspec": {
   "display_name": "Python 3 (ipykernel)",
   "language": "python",
   "name": "python3"
  },
  "language_info": {
   "codemirror_mode": {
    "name": "ipython",
    "version": 3
   },
   "file_extension": ".py",
   "mimetype": "text/x-python",
   "name": "python",
   "nbconvert_exporter": "python",
   "pygments_lexer": "ipython3",
   "version": "3.8.18"
  }
 },
 "nbformat": 4,
 "nbformat_minor": 1
}
